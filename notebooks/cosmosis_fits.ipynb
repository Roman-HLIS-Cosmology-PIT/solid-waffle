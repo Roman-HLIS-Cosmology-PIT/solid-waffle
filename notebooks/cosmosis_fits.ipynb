{
 "cells": [
  {
   "cell_type": "code",
   "execution_count": 52,
   "metadata": {},
   "outputs": [],
   "source": [
    "%matplotlib inline\n",
    "import twopoint\n",
    "import numpy as np\n",
    "import math\n",
    "import matplotlib.pyplot as plt"
   ]
  },
  {
   "cell_type": "code",
   "execution_count": 4,
   "metadata": {},
   "outputs": [],
   "source": [
    "ref_file='sim_fiducial_maglim_lensnz_fixednu.fits'"
   ]
  },
  {
   "cell_type": "code",
   "execution_count": 5,
   "metadata": {},
   "outputs": [],
   "source": [
    "T1 = twopoint.TwoPointFile.from_fits(ref_file)"
   ]
  },
  {
   "cell_type": "code",
   "execution_count": 9,
   "metadata": {},
   "outputs": [
    {
     "data": {
      "text/plain": [
       "4"
      ]
     },
     "execution_count": 9,
     "metadata": {},
     "output_type": "execute_result"
    }
   ],
   "source": [
    "len(T1.kernels[0].nzs)"
   ]
  },
  {
   "cell_type": "code",
   "execution_count": 13,
   "metadata": {},
   "outputs": [
    {
     "data": {
      "text/plain": [
       "array([ 1.68927628e-02,  1.77475624e-02,  1.89635929e-02,  2.05408542e-02,\n",
       "        2.24793464e-02,  2.47790695e-02,  2.74400234e-02,  3.04622082e-02,\n",
       "        3.38456239e-02,  3.75902704e-02,  4.16961477e-02,  4.61632560e-02,\n",
       "        5.09915950e-02,  5.73677144e-02,  6.00242080e-02,  6.95301610e-02,\n",
       "        7.69384200e-02,  8.20854854e-02,  8.87164541e-02,  9.36554940e-02,\n",
       "        9.54490285e-02,  9.59082443e-02,  9.78678518e-02,  1.05152060e-01,\n",
       "        1.16180531e-01,  1.24371734e-01,  1.31819068e-01,  1.47346723e-01,\n",
       "        1.64127077e-01,  1.75763777e-01,  1.88426827e-01,  1.99474248e-01,\n",
       "        2.06875755e-01,  2.14608486e-01,  2.21392408e-01,  2.30704340e-01,\n",
       "        2.41235594e-01,  2.42502573e-01,  2.45988974e-01,  2.57662389e-01,\n",
       "        2.70492796e-01,  2.79100780e-01,  2.90257533e-01,  3.06035042e-01,\n",
       "        3.24389441e-01,  3.44219158e-01,  3.75710480e-01,  3.71452305e-01,\n",
       "        3.62293203e-01,  3.90233948e-01,  4.62694093e-01,  5.58912432e-01,\n",
       "        6.66195542e-01,  7.50943929e-01,  7.04573686e-01,  7.35127056e-01,\n",
       "        8.75381198e-01,  1.01994263e+00,  1.12312061e+00,  1.27599968e+00,\n",
       "        1.44703271e+00,  1.63257320e+00,  1.81584308e+00,  2.00767183e+00,\n",
       "        2.21414649e+00,  2.39027738e+00,  2.50442990e+00,  2.52525457e+00,\n",
       "        2.54168128e+00,  2.53372106e+00,  2.46620599e+00,  2.34508341e+00,\n",
       "        2.29256011e+00,  2.28650450e+00,  2.27155833e+00,  2.28270776e+00,\n",
       "        2.27823790e+00,  2.15427104e+00,  1.99738364e+00,  2.06169519e+00,\n",
       "        2.07697909e+00,  1.97030919e+00,  1.94143580e+00,  1.98796825e+00,\n",
       "        2.02399167e+00,  2.04944230e+00,  2.07464529e+00,  2.09000425e+00,\n",
       "        2.06764517e+00,  1.98707290e+00,  1.85883344e+00,  1.71706409e+00,\n",
       "        1.61486784e+00,  1.47923018e+00,  1.32099265e+00,  1.19343395e+00,\n",
       "        1.11382502e+00,  1.03302916e+00,  9.59327916e-01,  9.08693768e-01,\n",
       "        8.05965186e-01,  6.54529573e-01,  5.52274094e-01,  4.73876965e-01,\n",
       "        3.37750628e-01,  2.48229273e-01,  2.50260063e-01,  2.13142831e-01,\n",
       "        1.80685640e-01,  1.52247234e-01,  1.38027397e-01,  1.22664978e-01,\n",
       "        1.12933244e-01,  1.19509045e-01,  1.23991885e-01,  1.23783425e-01,\n",
       "        1.17339542e-01,  1.11341848e-01,  1.02148767e-01,  9.12092310e-02,\n",
       "        8.20225355e-02,  7.45178676e-02,  6.81056668e-02,  6.27439974e-02,\n",
       "        5.79355189e-02,  5.19097047e-02,  4.40347925e-02,  3.69950240e-02,\n",
       "        3.17972555e-02,  2.82470415e-02,  2.66445664e-02,  2.22447576e-02,\n",
       "        1.84678784e-02,  1.68120467e-02,  1.68821477e-02,  1.65051177e-02,\n",
       "        1.59754999e-02,  1.65171568e-02,  1.85278163e-02,  2.28115072e-02,\n",
       "        2.60685250e-02,  2.78939145e-02,  2.91223822e-02,  2.97623699e-02,\n",
       "        2.96895121e-02,  2.90149101e-02,  2.78967681e-02,  2.64733076e-02,\n",
       "        2.47703429e-02,  2.29294202e-02,  2.09757670e-02,  1.89665969e-02,\n",
       "        1.73163885e-02,  1.60169828e-02,  1.47684156e-02,  1.34478326e-02,\n",
       "        1.21401816e-02,  1.11167076e-02,  1.04315726e-02,  9.69171116e-03,\n",
       "        9.02843313e-03,  8.62405199e-03,  8.48054892e-03,  8.47020162e-03,\n",
       "        8.37671596e-03,  8.26855975e-03,  8.09046032e-03,  7.75681151e-03,\n",
       "        7.31282161e-03,  6.86765189e-03,  6.44996400e-03,  6.07720594e-03,\n",
       "        5.79692995e-03,  5.68415728e-03,  5.75489441e-03,  6.14926301e-03,\n",
       "        6.78818191e-03,  7.25946287e-03,  7.45729974e-03,  7.45380428e-03,\n",
       "        7.25831674e-03,  6.89218396e-03,  6.37258579e-03,  5.73476817e-03,\n",
       "        5.05613565e-03,  4.43224737e-03,  3.92422713e-03,  3.57781764e-03,\n",
       "        3.21694524e-03,  2.89238077e-03,  2.60568209e-03,  2.36368129e-03,\n",
       "        2.17002648e-03,  2.00156538e-03,  1.92410865e-03,  1.92051353e-03,\n",
       "        2.02001579e-03,  2.19063076e-03,  2.37749163e-03,  2.52080484e-03,\n",
       "        2.59380254e-03,  2.56615391e-03,  2.53854953e-03,  2.47855973e-03,\n",
       "        2.43785499e-03,  2.39937902e-03,  2.34099608e-03,  2.26768983e-03,\n",
       "        2.17838402e-03,  2.08696760e-03,  1.99983356e-03,  1.93219772e-03,\n",
       "        1.88032683e-03,  1.83860878e-03,  1.79261747e-03,  1.73221047e-03,\n",
       "        1.63363982e-03,  1.49270600e-03,  1.37116558e-03,  1.24664711e-03,\n",
       "        1.16926443e-03,  1.10040130e-03,  1.03370869e-03,  9.67650393e-04,\n",
       "        9.09911095e-04,  8.62953576e-04,  8.84532068e-04,  9.45806791e-04,\n",
       "        1.09360023e-03,  1.23193742e-03,  1.34048844e-03,  1.42615656e-03,\n",
       "        1.48199973e-03,  1.50992217e-03,  1.50594991e-03,  1.47042280e-03,\n",
       "        1.40730954e-03,  1.32318842e-03,  1.23374784e-03,  1.13685573e-03,\n",
       "        1.03897088e-03,  9.54867224e-04,  9.02241869e-04,  8.78806465e-04,\n",
       "        9.22487756e-04,  9.89714647e-04,  1.06483454e-03,  1.12379377e-03,\n",
       "        1.17594640e-03,  1.22327380e-03,  1.28477993e-03,  1.37905786e-03,\n",
       "        1.45914946e-03,  1.48431754e-03,  1.47245030e-03,  1.42318365e-03,\n",
       "        1.34126004e-03,  1.23414151e-03,  1.11378907e-03,  1.00483138e-03,\n",
       "        9.16803458e-04,  8.45525634e-04,  7.90649772e-04,  7.42260909e-04,\n",
       "        7.16024189e-04,  7.12822604e-04,  7.32895861e-04,  7.63227310e-04,\n",
       "        8.14549109e-04,  8.45050523e-04,  8.85149604e-04,  9.43397701e-04,\n",
       "        1.01837467e-03,  1.10615925e-03,  1.20775480e-03,  1.29164923e-03,\n",
       "        1.36035240e-03,  1.41321275e-03,  1.44951656e-03,  1.46142154e-03,\n",
       "        1.45563042e-03,  1.43899045e-03,  1.41885572e-03,  1.39516531e-03,\n",
       "        1.35454882e-03,  1.28235078e-03,  1.18337875e-03, -1.72435757e-03,\n",
       "       -1.15878569e-03, -4.02536700e-04,  5.44389400e-04,  1.68199261e-03,\n",
       "        3.01027293e-03,  4.52923036e-03,  6.23886490e-03,  8.13917654e-03,\n",
       "        1.02301653e-02,  1.25118312e-02,  1.49841741e-02,  1.76471942e-02])"
      ]
     },
     "execution_count": 13,
     "metadata": {},
     "output_type": "execute_result"
    }
   ],
   "source": [
    "T1.kernels[0].nzs[2]"
   ]
  },
  {
   "cell_type": "code",
   "execution_count": 19,
   "metadata": {},
   "outputs": [],
   "source": [
    "nz_source = twopoint.NumberDensity('nz_source', zlow=T1.kernels[0].zlow, z=T1.kernels[0].z, zhigh=T1.kernels[0].zhigh, nzs=[T1.kernels[0].nzs[2]])\n"
   ]
  },
  {
   "cell_type": "code",
   "execution_count": 20,
   "metadata": {},
   "outputs": [],
   "source": [
    "kernels = []\n",
    "kernels.append(nz_source)"
   ]
  },
  {
   "cell_type": "code",
   "execution_count": 21,
   "metadata": {},
   "outputs": [
    {
     "data": {
      "text/plain": [
       "[<twopoint.twopoint.NumberDensity at 0x11636df50>]"
      ]
     },
     "execution_count": 21,
     "metadata": {},
     "output_type": "execute_result"
    }
   ],
   "source": [
    "kernels"
   ]
  },
  {
   "cell_type": "code",
   "execution_count": 23,
   "metadata": {},
   "outputs": [
    {
     "data": {
      "text/plain": [
       "[array([ 1.68927628e-02,  1.77475624e-02,  1.89635929e-02,  2.05408542e-02,\n",
       "         2.24793464e-02,  2.47790695e-02,  2.74400234e-02,  3.04622082e-02,\n",
       "         3.38456239e-02,  3.75902704e-02,  4.16961477e-02,  4.61632560e-02,\n",
       "         5.09915950e-02,  5.73677144e-02,  6.00242080e-02,  6.95301610e-02,\n",
       "         7.69384200e-02,  8.20854854e-02,  8.87164541e-02,  9.36554940e-02,\n",
       "         9.54490285e-02,  9.59082443e-02,  9.78678518e-02,  1.05152060e-01,\n",
       "         1.16180531e-01,  1.24371734e-01,  1.31819068e-01,  1.47346723e-01,\n",
       "         1.64127077e-01,  1.75763777e-01,  1.88426827e-01,  1.99474248e-01,\n",
       "         2.06875755e-01,  2.14608486e-01,  2.21392408e-01,  2.30704340e-01,\n",
       "         2.41235594e-01,  2.42502573e-01,  2.45988974e-01,  2.57662389e-01,\n",
       "         2.70492796e-01,  2.79100780e-01,  2.90257533e-01,  3.06035042e-01,\n",
       "         3.24389441e-01,  3.44219158e-01,  3.75710480e-01,  3.71452305e-01,\n",
       "         3.62293203e-01,  3.90233948e-01,  4.62694093e-01,  5.58912432e-01,\n",
       "         6.66195542e-01,  7.50943929e-01,  7.04573686e-01,  7.35127056e-01,\n",
       "         8.75381198e-01,  1.01994263e+00,  1.12312061e+00,  1.27599968e+00,\n",
       "         1.44703271e+00,  1.63257320e+00,  1.81584308e+00,  2.00767183e+00,\n",
       "         2.21414649e+00,  2.39027738e+00,  2.50442990e+00,  2.52525457e+00,\n",
       "         2.54168128e+00,  2.53372106e+00,  2.46620599e+00,  2.34508341e+00,\n",
       "         2.29256011e+00,  2.28650450e+00,  2.27155833e+00,  2.28270776e+00,\n",
       "         2.27823790e+00,  2.15427104e+00,  1.99738364e+00,  2.06169519e+00,\n",
       "         2.07697909e+00,  1.97030919e+00,  1.94143580e+00,  1.98796825e+00,\n",
       "         2.02399167e+00,  2.04944230e+00,  2.07464529e+00,  2.09000425e+00,\n",
       "         2.06764517e+00,  1.98707290e+00,  1.85883344e+00,  1.71706409e+00,\n",
       "         1.61486784e+00,  1.47923018e+00,  1.32099265e+00,  1.19343395e+00,\n",
       "         1.11382502e+00,  1.03302916e+00,  9.59327916e-01,  9.08693768e-01,\n",
       "         8.05965186e-01,  6.54529573e-01,  5.52274094e-01,  4.73876965e-01,\n",
       "         3.37750628e-01,  2.48229273e-01,  2.50260063e-01,  2.13142831e-01,\n",
       "         1.80685640e-01,  1.52247234e-01,  1.38027397e-01,  1.22664978e-01,\n",
       "         1.12933244e-01,  1.19509045e-01,  1.23991885e-01,  1.23783425e-01,\n",
       "         1.17339542e-01,  1.11341848e-01,  1.02148767e-01,  9.12092310e-02,\n",
       "         8.20225355e-02,  7.45178676e-02,  6.81056668e-02,  6.27439974e-02,\n",
       "         5.79355189e-02,  5.19097047e-02,  4.40347925e-02,  3.69950240e-02,\n",
       "         3.17972555e-02,  2.82470415e-02,  2.66445664e-02,  2.22447576e-02,\n",
       "         1.84678784e-02,  1.68120467e-02,  1.68821477e-02,  1.65051177e-02,\n",
       "         1.59754999e-02,  1.65171568e-02,  1.85278163e-02,  2.28115072e-02,\n",
       "         2.60685250e-02,  2.78939145e-02,  2.91223822e-02,  2.97623699e-02,\n",
       "         2.96895121e-02,  2.90149101e-02,  2.78967681e-02,  2.64733076e-02,\n",
       "         2.47703429e-02,  2.29294202e-02,  2.09757670e-02,  1.89665969e-02,\n",
       "         1.73163885e-02,  1.60169828e-02,  1.47684156e-02,  1.34478326e-02,\n",
       "         1.21401816e-02,  1.11167076e-02,  1.04315726e-02,  9.69171116e-03,\n",
       "         9.02843313e-03,  8.62405199e-03,  8.48054892e-03,  8.47020162e-03,\n",
       "         8.37671596e-03,  8.26855975e-03,  8.09046032e-03,  7.75681151e-03,\n",
       "         7.31282161e-03,  6.86765189e-03,  6.44996400e-03,  6.07720594e-03,\n",
       "         5.79692995e-03,  5.68415728e-03,  5.75489441e-03,  6.14926301e-03,\n",
       "         6.78818191e-03,  7.25946287e-03,  7.45729974e-03,  7.45380428e-03,\n",
       "         7.25831674e-03,  6.89218396e-03,  6.37258579e-03,  5.73476817e-03,\n",
       "         5.05613565e-03,  4.43224737e-03,  3.92422713e-03,  3.57781764e-03,\n",
       "         3.21694524e-03,  2.89238077e-03,  2.60568209e-03,  2.36368129e-03,\n",
       "         2.17002648e-03,  2.00156538e-03,  1.92410865e-03,  1.92051353e-03,\n",
       "         2.02001579e-03,  2.19063076e-03,  2.37749163e-03,  2.52080484e-03,\n",
       "         2.59380254e-03,  2.56615391e-03,  2.53854953e-03,  2.47855973e-03,\n",
       "         2.43785499e-03,  2.39937902e-03,  2.34099608e-03,  2.26768983e-03,\n",
       "         2.17838402e-03,  2.08696760e-03,  1.99983356e-03,  1.93219772e-03,\n",
       "         1.88032683e-03,  1.83860878e-03,  1.79261747e-03,  1.73221047e-03,\n",
       "         1.63363982e-03,  1.49270600e-03,  1.37116558e-03,  1.24664711e-03,\n",
       "         1.16926443e-03,  1.10040130e-03,  1.03370869e-03,  9.67650393e-04,\n",
       "         9.09911095e-04,  8.62953576e-04,  8.84532068e-04,  9.45806791e-04,\n",
       "         1.09360023e-03,  1.23193742e-03,  1.34048844e-03,  1.42615656e-03,\n",
       "         1.48199973e-03,  1.50992217e-03,  1.50594991e-03,  1.47042280e-03,\n",
       "         1.40730954e-03,  1.32318842e-03,  1.23374784e-03,  1.13685573e-03,\n",
       "         1.03897088e-03,  9.54867224e-04,  9.02241869e-04,  8.78806465e-04,\n",
       "         9.22487756e-04,  9.89714647e-04,  1.06483454e-03,  1.12379377e-03,\n",
       "         1.17594640e-03,  1.22327380e-03,  1.28477993e-03,  1.37905786e-03,\n",
       "         1.45914946e-03,  1.48431754e-03,  1.47245030e-03,  1.42318365e-03,\n",
       "         1.34126004e-03,  1.23414151e-03,  1.11378907e-03,  1.00483138e-03,\n",
       "         9.16803458e-04,  8.45525634e-04,  7.90649772e-04,  7.42260909e-04,\n",
       "         7.16024189e-04,  7.12822604e-04,  7.32895861e-04,  7.63227310e-04,\n",
       "         8.14549109e-04,  8.45050523e-04,  8.85149604e-04,  9.43397701e-04,\n",
       "         1.01837467e-03,  1.10615925e-03,  1.20775480e-03,  1.29164923e-03,\n",
       "         1.36035240e-03,  1.41321275e-03,  1.44951656e-03,  1.46142154e-03,\n",
       "         1.45563042e-03,  1.43899045e-03,  1.41885572e-03,  1.39516531e-03,\n",
       "         1.35454882e-03,  1.28235078e-03,  1.18337875e-03, -1.72435757e-03,\n",
       "        -1.15878569e-03, -4.02536700e-04,  5.44389400e-04,  1.68199261e-03,\n",
       "         3.01027293e-03,  4.52923036e-03,  6.23886490e-03,  8.13917654e-03,\n",
       "         1.02301653e-02,  1.25118312e-02,  1.49841741e-02,  1.76471942e-02])]"
      ]
     },
     "execution_count": 23,
     "metadata": {},
     "output_type": "execute_result"
    }
   ],
   "source": [
    "kernels[0].nzs"
   ]
  },
  {
   "cell_type": "code",
   "execution_count": 41,
   "metadata": {},
   "outputs": [],
   "source": [
    "theta, xip, xiperr, xim, ximerr = np.loadtxt(\"xipm_20828.txt\").T"
   ]
  },
  {
   "cell_type": "code",
   "execution_count": 42,
   "metadata": {},
   "outputs": [
    {
     "data": {
      "text/plain": [
       "array([1.16352398, 1.52611228, 2.03057222, 2.70406874, 3.59296538,\n",
       "       4.73383009, 6.18607869, 7.78774384])"
      ]
     },
     "execution_count": 42,
     "metadata": {},
     "output_type": "execute_result"
    }
   ],
   "source": [
    "theta"
   ]
  },
  {
   "cell_type": "code",
   "execution_count": 43,
   "metadata": {},
   "outputs": [],
   "source": [
    "spectra = []\n",
    "npoints = int(len(theta))"
   ]
  },
  {
   "cell_type": "code",
   "execution_count": 44,
   "metadata": {},
   "outputs": [],
   "source": [
    "# Other info needed for the twopoint file:\n",
    "windows = \"SAMPLE\"\n",
    "angular_bin = []\n",
    "angle       = []\n",
    "bin1        = []\n",
    "bin2        = []\n",
    "\n",
    "for i in range(1, 1+1):\n",
    "    for j in range(i,1+1):\n",
    "        bin1.append(np.repeat(i, npoints))\n",
    "        bin2.append(np.repeat(j, npoints))\n",
    "        angle.append(theta)\n",
    "        angular_bin.append(np.arange(npoints))"
   ]
  },
  {
   "cell_type": "code",
   "execution_count": 45,
   "metadata": {},
   "outputs": [],
   "source": [
    "#Convert all the lists of vectors into long single vectors\n",
    "bin1 = np.concatenate(bin1)\n",
    "bin2 = np.concatenate(bin2)\n",
    "angle = np.concatenate(angle)\n",
    "angular_bin = np.concatenate(angular_bin)\n",
    "bins = (bin1, bin2)"
   ]
  },
  {
   "cell_type": "code",
   "execution_count": 46,
   "metadata": {},
   "outputs": [
    {
     "name": "stdout",
     "output_type": "stream",
     "text": [
      "(array([1.16352398, 1.52611228, 2.03057222, 2.70406874, 3.59296538,\n",
      "       4.73383009, 6.18607869, 7.78774384]), array([1.89545486e-06, 2.40817300e-06, 3.04123675e-06, 2.04044745e-06,\n",
      "       2.35346831e-06, 1.95403995e-06, 6.05597525e-07, 3.23814278e-09]))\n",
      "[1.89545486e-06 2.40817300e-06 3.04123675e-06 2.04044745e-06\n",
      " 2.35346831e-06 1.95403995e-06 6.05597525e-07 3.23814278e-09]\n"
     ]
    }
   ],
   "source": [
    "s = twopoint.SpectrumMeasurement('xip', bins, \n",
    "                                 (twopoint.Types.galaxy_shear_plus_real, twopoint.Types.galaxy_shear_plus_real), \n",
    "                                 ('nz_source', 'nz_source'), windows, angular_bin, value=xip, \n",
    "                                 angle=angle, angle_unit = 'arcmin')\n",
    "\n",
    "print(s.get_pair(1,1))\n",
    "print(s.value)\n",
    "spectra.append(s)"
   ]
  },
  {
   "cell_type": "code",
   "execution_count": 47,
   "metadata": {},
   "outputs": [
    {
     "name": "stdout",
     "output_type": "stream",
     "text": [
      "(array([1.16352398, 1.52611228, 2.03057222, 2.70406874, 3.59296538,\n",
      "       4.73383009, 6.18607869, 7.78774384]), array([-4.22195343e-07, -1.15856204e-06, -4.18137795e-08,  3.63846482e-08,\n",
      "       -1.44600827e-07,  2.63164560e-07, -5.47364695e-07, -2.16699364e-06]))\n",
      "8\n"
     ]
    }
   ],
   "source": [
    "s = twopoint.SpectrumMeasurement('xim', bins, \n",
    "                                 (twopoint.Types.galaxy_shear_minus_real, twopoint.Types.galaxy_shear_minus_real), \n",
    "                                 ('nz_source', 'nz_source'), windows, angular_bin, value=xim, \n",
    "                                 angle=angle, angle_unit = 'arcmin')\n",
    "\n",
    "print(s.get_pair(1,1))\n",
    "print(len(s.value))\n",
    "spectra.append(s)"
   ]
  },
  {
   "cell_type": "code",
   "execution_count": 48,
   "metadata": {},
   "outputs": [],
   "source": [
    "data = twopoint.TwoPointFile(spectra, kernels, None, None)\n",
    "data.to_fits('xipm_20828.fits', overwrite=True)"
   ]
  },
  {
   "cell_type": "markdown",
   "metadata": {},
   "source": [
    "### Comparison to shear model"
   ]
  },
  {
   "cell_type": "code",
   "execution_count": 50,
   "metadata": {},
   "outputs": [],
   "source": [
    "theta, xip, xiperr, xim, ximerr = np.loadtxt(\"xipm_20829.txt\").T"
   ]
  },
  {
   "cell_type": "code",
   "execution_count": 62,
   "metadata": {},
   "outputs": [],
   "source": [
    "theory_folder = '/Users/annaporredon/Codes/cosmosis/charge_diff_20829/'\n",
    "theta_theory = np.loadtxt(theory_folder+'shear_xi_plus/theta.txt')\n",
    "xip_th = np.loadtxt(theory_folder+'shear_xi_plus/bin_1_1.txt')\n",
    "xim_th = np.loadtxt(theory_folder+'shear_xi_minus/bin_1_1.txt')"
   ]
  },
  {
   "cell_type": "code",
   "execution_count": 65,
   "metadata": {},
   "outputs": [
    {
     "data": {
      "image/png": "[encoded data removed]",
      "text/plain": [
       "<Figure size 432x288 with 1 Axes>"
      ]
     },
     "metadata": {
      "needs_background": "light"
     },
     "output_type": "display_data"
    }
   ],
   "source": [
    "plt.errorbar(theta, xip, yerr=xiperr, marker='.', linestyle='')\n",
    "plt.plot(theta_theory*180*60/math.pi, xip_th, linestyle='-', color='k')\n",
    "plt.xlim(left=1, right=10)\n",
    "plt.ylim(top=1e-5)\n",
    "plt.savefig('charge_diff_20829.png')"
   ]
  },
  {
   "cell_type": "code",
   "execution_count": 64,
   "metadata": {},
   "outputs": [
    {
     "data": {
      "text/plain": [
       "(-1.9247906305430462e-06, 1e-05)"
      ]
     },
     "execution_count": 64,
     "metadata": {},
     "output_type": "execute_result"
    },
    {
     "data": {
      "image/png": "[encoded data removed]",
      "text/plain": [
       "<Figure size 432x288 with 1 Axes>"
      ]
     },
     "metadata": {
      "needs_background": "light"
     },
     "output_type": "display_data"
    }
   ],
   "source": [
    "plt.errorbar(theta, xim, yerr=ximerr, marker='.', linestyle='')\n",
    "plt.plot(theta_theory*180*60/math.pi, xim_th, linestyle='-', color='k')\n",
    "plt.xlim(left=1, right=10)\n",
    "plt.ylim(top=1e-5)"
   ]
  },
  {
   "cell_type": "code",
   "execution_count": 68,
   "metadata": {},
   "outputs": [],
   "source": [
    "theta, xip, xiperr, xim, ximerr = np.loadtxt(\"xipm_20828.txt\").T"
   ]
  },
  {
   "cell_type": "code",
   "execution_count": 69,
   "metadata": {},
   "outputs": [],
   "source": [
    "theory_folder = '/Users/annaporredon/Codes/cosmosis/charge_diff_20828/'\n",
    "theta_theory = np.loadtxt(theory_folder+'shear_xi_plus/theta.txt')\n",
    "xip_th = np.loadtxt(theory_folder+'shear_xi_plus/bin_1_1.txt')\n",
    "xim_th = np.loadtxt(theory_folder+'shear_xi_minus/bin_1_1.txt')"
   ]
  },
  {
   "cell_type": "code",
   "execution_count": 70,
   "metadata": {},
   "outputs": [
    {
     "data": {
      "text/plain": [
       "(-4.759659564204369e-06, 1e-05)"
      ]
     },
     "execution_count": 70,
     "metadata": {},
     "output_type": "execute_result"
    },
    {
     "data": {
      "image/png": "[encoded data removed]",
      "text/plain": [
       "<Figure size 432x288 with 1 Axes>"
      ]
     },
     "metadata": {
      "needs_background": "light"
     },
     "output_type": "display_data"
    }
   ],
   "source": [
    "plt.errorbar(theta, xip, yerr=xiperr, marker='.', linestyle='')\n",
    "plt.plot(theta_theory*180*60/math.pi, xip_th, linestyle='-', color='k')\n",
    "plt.xlim(left=1, right=10)\n",
    "plt.ylim(top=1e-5)"
   ]
  },
  {
   "cell_type": "code",
   "execution_count": 71,
   "metadata": {},
   "outputs": [
    {
     "data": {
      "text/plain": [
       "(-3.6519371939094778e-06, 1e-05)"
      ]
     },
     "execution_count": 71,
     "metadata": {},
     "output_type": "execute_result"
    },
    {
     "data": {
      "image/png": "[encoded data removed]",
      "text/plain": [
       "<Figure size 432x288 with 1 Axes>"
      ]
     },
     "metadata": {
      "needs_background": "light"
     },
     "output_type": "display_data"
    }
   ],
   "source": [
    "plt.errorbar(theta, xim, yerr=ximerr, marker='.', linestyle='')\n",
    "plt.plot(theta_theory*180*60/math.pi, xim_th, linestyle='-', color='k')\n",
    "plt.xlim(left=1, right=10)\n",
    "plt.ylim(top=1e-5)"
   ]
  },
  {
   "cell_type": "code",
   "execution_count": 72,
   "metadata": {},
   "outputs": [],
   "source": [
    "theta, xip, xiperr, xim, ximerr = np.loadtxt(\"xipm_20663.txt\").T"
   ]
  },
  {
   "cell_type": "code",
   "execution_count": 78,
   "metadata": {},
   "outputs": [],
   "source": [
    "theory_folder = '/Users/annaporredon/Codes/cosmosis/charge_diff_20663/'\n",
    "theta_theory = np.loadtxt(theory_folder+'shear_xi_plus/theta.txt')\n",
    "xip_th = np.loadtxt(theory_folder+'shear_xi_plus/bin_1_1.txt')\n",
    "xim_th = np.loadtxt(theory_folder+'shear_xi_minus/bin_1_1.txt')"
   ]
  },
  {
   "cell_type": "code",
   "execution_count": 79,
   "metadata": {},
   "outputs": [
    {
     "data": {
      "text/plain": [
       "(-1.0569496784369553e-06, 1e-05)"
      ]
     },
     "execution_count": 79,
     "metadata": {},
     "output_type": "execute_result"
    },
    {
     "data": {
      "image/png": "[encoded data removed]",
      "text/plain": [
       "<Figure size 432x288 with 1 Axes>"
      ]
     },
     "metadata": {
      "needs_background": "light"
     },
     "output_type": "display_data"
    }
   ],
   "source": [
    "plt.errorbar(theta, xip, yerr=xiperr, marker='.', linestyle='')\n",
    "plt.plot(theta_theory*180*60/math.pi, xip_th, linestyle='-', color='k')\n",
    "plt.xlim(left=1, right=10)\n",
    "plt.ylim(top=1e-5)"
   ]
  },
  {
   "cell_type": "code",
   "execution_count": 75,
   "metadata": {},
   "outputs": [
    {
     "data": {
      "text/plain": [
       "(-1.3961628197500856e-06, 1e-05)"
      ]
     },
     "execution_count": 75,
     "metadata": {},
     "output_type": "execute_result"
    },
    {
     "data": {
      "image/png": "[encoded data removed]",
      "text/plain": [
       "<Figure size 432x288 with 1 Axes>"
      ]
     },
     "metadata": {
      "needs_background": "light"
     },
     "output_type": "display_data"
    }
   ],
   "source": [
    "plt.errorbar(theta, xim, yerr=ximerr, marker='.', linestyle='')\n",
    "plt.plot(theta_theory*180*60/math.pi, xim_th, linestyle='-', color='k')\n",
    "plt.xlim(left=1, right=10)\n",
    "plt.ylim(top=1e-5)"
   ]
  },
  {
   "cell_type": "code",
   "execution_count": null,
   "metadata": {},
   "outputs": [],
   "source": []
  }
 ],
 "metadata": {
  "kernelspec": {
   "display_name": "Python 3",
   "language": "python",
   "name": "python3"
  },
  "language_info": {
   "codemirror_mode": {
    "name": "ipython",
    "version": 3
   },
   "file_extension": ".py",
   "mimetype": "text/x-python",
   "name": "python",
   "nbconvert_exporter": "python",
   "pygments_lexer": "ipython3",
   "version": "3.7.5"
  }
 },
 "nbformat": 4,
 "nbformat_minor": 2
}
