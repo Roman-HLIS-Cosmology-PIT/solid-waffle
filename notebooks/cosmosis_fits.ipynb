{
 "cells": [
  {
   "cell_type": "code",
   "execution_count": null,
   "metadata": {},
   "outputs": [],
   "source": [
    "%matplotlib inline\n",
    "import twopoint\n",
    "import numpy as np\n",
    "import math\n",
    "import matplotlib.pyplot as plt"
   ]
  },
  {
   "cell_type": "code",
   "execution_count": null,
   "metadata": {},
   "outputs": [],
   "source": [
    "ref_file = \"sim_fiducial_maglim_lensnz_fixednu.fits\""
   ]
  },
  {
   "cell_type": "code",
   "execution_count": null,
   "metadata": {},
   "outputs": [],
   "source": [
    "T1 = twopoint.TwoPointFile.from_fits(ref_file)"
   ]
  },
  {
   "cell_type": "code",
   "execution_count": null,
   "metadata": {},
   "outputs": [],
   "source": [
    "len(T1.kernels[0].nzs)"
   ]
  },
  {
   "cell_type": "code",
   "execution_count": null,
   "metadata": {},
   "outputs": [],
   "source": [
    "T1.kernels[0].nzs[2]"
   ]
  },
  {
   "cell_type": "code",
   "execution_count": null,
   "metadata": {},
   "outputs": [],
   "source": [
    "nz_source = twopoint.NumberDensity(\n",
    "    \"nz_source\",\n",
    "    zlow=T1.kernels[0].zlow,\n",
    "    z=T1.kernels[0].z,\n",
    "    zhigh=T1.kernels[0].zhigh,\n",
    "    nzs=[T1.kernels[0].nzs[2]],\n",
    ")"
   ]
  },
  {
   "cell_type": "code",
   "execution_count": null,
   "metadata": {},
   "outputs": [],
   "source": [
    "kernels = []\n",
    "kernels.append(nz_source)"
   ]
  },
  {
   "cell_type": "code",
   "execution_count": null,
   "metadata": {},
   "outputs": [],
   "source": [
    "kernels"
   ]
  },
  {
   "cell_type": "code",
   "execution_count": null,
   "metadata": {},
   "outputs": [],
   "source": [
    "kernels[0].nzs"
   ]
  },
  {
   "cell_type": "code",
   "execution_count": null,
   "metadata": {},
   "outputs": [],
   "source": [
    "theta, xip, xiperr, xim, ximerr = np.loadtxt(\"xipm_20828.txt\").T"
   ]
  },
  {
   "cell_type": "code",
   "execution_count": null,
   "metadata": {},
   "outputs": [],
   "source": [
    "theta"
   ]
  },
  {
   "cell_type": "code",
   "execution_count": null,
   "metadata": {},
   "outputs": [],
   "source": [
    "spectra = []\n",
    "npoints = int(len(theta))"
   ]
  },
  {
   "cell_type": "code",
   "execution_count": null,
   "metadata": {},
   "outputs": [],
   "source": [
    "# Other info needed for the twopoint file:\n",
    "windows = \"SAMPLE\"\n",
    "angular_bin = []\n",
    "angle = []\n",
    "bin1 = []\n",
    "bin2 = []\n",
    "\n",
    "for i in range(1, 1 + 1):\n",
    "    for j in range(i, 1 + 1):\n",
    "        bin1.append(np.repeat(i, npoints))\n",
    "        bin2.append(np.repeat(j, npoints))\n",
    "        angle.append(theta)\n",
    "        angular_bin.append(np.arange(npoints))"
   ]
  },
  {
   "cell_type": "code",
   "execution_count": null,
   "metadata": {},
   "outputs": [],
   "source": [
    "# Convert all the lists of vectors into long single vectors\n",
    "bin1 = np.concatenate(bin1)\n",
    "bin2 = np.concatenate(bin2)\n",
    "angle = np.concatenate(angle)\n",
    "angular_bin = np.concatenate(angular_bin)\n",
    "bins = (bin1, bin2)"
   ]
  },
  {
   "cell_type": "code",
   "execution_count": null,
   "metadata": {},
   "outputs": [],
   "source": [
    "s = twopoint.SpectrumMeasurement(\n",
    "    \"xip\",\n",
    "    bins,\n",
    "    (twopoint.Types.galaxy_shear_plus_real, twopoint.Types.galaxy_shear_plus_real),\n",
    "    (\"nz_source\", \"nz_source\"),\n",
    "    windows,\n",
    "    angular_bin,\n",
    "    value=xip,\n",
    "    angle=angle,\n",
    "    angle_unit=\"arcmin\",\n",
    ")\n",
    "\n",
    "print(s.get_pair(1, 1))\n",
    "print(s.value)\n",
    "spectra.append(s)"
   ]
  },
  {
   "cell_type": "code",
   "execution_count": null,
   "metadata": {},
   "outputs": [],
   "source": [
    "s = twopoint.SpectrumMeasurement(\n",
    "    \"xim\",\n",
    "    bins,\n",
    "    (twopoint.Types.galaxy_shear_minus_real, twopoint.Types.galaxy_shear_minus_real),\n",
    "    (\"nz_source\", \"nz_source\"),\n",
    "    windows,\n",
    "    angular_bin,\n",
    "    value=xim,\n",
    "    angle=angle,\n",
    "    angle_unit=\"arcmin\",\n",
    ")\n",
    "\n",
    "print(s.get_pair(1, 1))\n",
    "print(len(s.value))\n",
    "spectra.append(s)"
   ]
  },
  {
   "cell_type": "code",
   "execution_count": null,
   "metadata": {},
   "outputs": [],
   "source": [
    "data = twopoint.TwoPointFile(spectra, kernels, None, None)\n",
    "data.to_fits(\"xipm_20828.fits\", overwrite=True)"
   ]
  },
  {
   "cell_type": "markdown",
   "metadata": {},
   "source": [
    "### Comparison to shear model"
   ]
  },
  {
   "cell_type": "code",
   "execution_count": null,
   "metadata": {},
   "outputs": [],
   "source": [
    "theta, xip, xiperr, xim, ximerr = np.loadtxt(\"xipm_20829.txt\").T"
   ]
  },
  {
   "cell_type": "code",
   "execution_count": null,
   "metadata": {},
   "outputs": [],
   "source": [
    "theory_folder = \"/Users/annaporredon/Codes/cosmosis/charge_diff_20829/\"\n",
    "theta_theory = np.loadtxt(theory_folder + \"shear_xi_plus/theta.txt\")\n",
    "xip_th = np.loadtxt(theory_folder + \"shear_xi_plus/bin_1_1.txt\")\n",
    "xim_th = np.loadtxt(theory_folder + \"shear_xi_minus/bin_1_1.txt\")"
   ]
  },
  {
   "cell_type": "code",
   "execution_count": null,
   "metadata": {},
   "outputs": [],
   "source": [
    "plt.errorbar(theta, xip, yerr=xiperr, marker=\".\", linestyle=\"\")\n",
    "plt.plot(theta_theory * 180 * 60 / math.pi, xip_th, linestyle=\"-\", color=\"k\")\n",
    "plt.xlim(left=1, right=10)\n",
    "plt.ylim(top=1e-5)\n",
    "plt.savefig(\"charge_diff_20829.png\")"
   ]
  },
  {
   "cell_type": "code",
   "execution_count": null,
   "metadata": {},
   "outputs": [],
   "source": [
    "plt.errorbar(theta, xim, yerr=ximerr, marker=\".\", linestyle=\"\")\n",
    "plt.plot(theta_theory * 180 * 60 / math.pi, xim_th, linestyle=\"-\", color=\"k\")\n",
    "plt.xlim(left=1, right=10)\n",
    "plt.ylim(top=1e-5)"
   ]
  },
  {
   "cell_type": "code",
   "execution_count": null,
   "metadata": {},
   "outputs": [],
   "source": [
    "theta, xip, xiperr, xim, ximerr = np.loadtxt(\"xipm_20828.txt\").T"
   ]
  },
  {
   "cell_type": "code",
   "execution_count": null,
   "metadata": {},
   "outputs": [],
   "source": [
    "theory_folder = \"/Users/annaporredon/Codes/cosmosis/charge_diff_20828/\"\n",
    "theta_theory = np.loadtxt(theory_folder + \"shear_xi_plus/theta.txt\")\n",
    "xip_th = np.loadtxt(theory_folder + \"shear_xi_plus/bin_1_1.txt\")\n",
    "xim_th = np.loadtxt(theory_folder + \"shear_xi_minus/bin_1_1.txt\")"
   ]
  },
  {
   "cell_type": "code",
   "execution_count": null,
   "metadata": {},
   "outputs": [],
   "source": [
    "plt.errorbar(theta, xip, yerr=xiperr, marker=\".\", linestyle=\"\")\n",
    "plt.plot(theta_theory * 180 * 60 / math.pi, xip_th, linestyle=\"-\", color=\"k\")\n",
    "plt.xlim(left=1, right=10)\n",
    "plt.ylim(top=1e-5)"
   ]
  },
  {
   "cell_type": "code",
   "execution_count": null,
   "metadata": {},
   "outputs": [],
   "source": [
    "plt.errorbar(theta, xim, yerr=ximerr, marker=\".\", linestyle=\"\")\n",
    "plt.plot(theta_theory * 180 * 60 / math.pi, xim_th, linestyle=\"-\", color=\"k\")\n",
    "plt.xlim(left=1, right=10)\n",
    "plt.ylim(top=1e-5)"
   ]
  },
  {
   "cell_type": "code",
   "execution_count": null,
   "metadata": {},
   "outputs": [],
   "source": [
    "theta, xip, xiperr, xim, ximerr = np.loadtxt(\"xipm_20663.txt\").T"
   ]
  },
  {
   "cell_type": "code",
   "execution_count": null,
   "metadata": {},
   "outputs": [],
   "source": [
    "theory_folder = \"/Users/annaporredon/Codes/cosmosis/charge_diff_20663_xiplus/\"\n",
    "theta_theory = np.loadtxt(theory_folder + \"shear_xi_plus/theta.txt\")\n",
    "xip_th = np.loadtxt(theory_folder + \"shear_xi_plus/bin_1_1.txt\")\n",
    "xim_th = np.loadtxt(theory_folder + \"shear_xi_minus/bin_1_1.txt\")"
   ]
  },
  {
   "cell_type": "code",
   "execution_count": null,
   "metadata": {},
   "outputs": [],
   "source": [
    "plt.errorbar(theta, xip, yerr=xiperr, marker=\".\", linestyle=\"\")\n",
    "plt.plot(theta_theory * 180 * 60 / math.pi, xip_th, linestyle=\"-\", color=\"k\")\n",
    "plt.xlim(left=1, right=10)\n",
    "plt.ylim(top=1e-5)"
   ]
  },
  {
   "cell_type": "code",
   "execution_count": null,
   "metadata": {},
   "outputs": [],
   "source": [
    "plt.errorbar(theta, xim, yerr=ximerr, marker=\".\", linestyle=\"\")\n",
    "plt.plot(theta_theory * 180 * 60 / math.pi, xim_th, linestyle=\"-\", color=\"k\")\n",
    "plt.xlim(left=1, right=10)\n",
    "plt.ylim(top=1e-5)"
   ]
  },
  {
   "cell_type": "code",
   "execution_count": null,
   "metadata": {},
   "outputs": [],
   "source": [
    "ell = np.loadtxt(theory_folder + \"shear_cl/ell.txt\")\n",
    "c_ell = np.loadtxt(theory_folder + \"shear_cl/bin_1_1.txt\")"
   ]
  },
  {
   "cell_type": "code",
   "execution_count": null,
   "metadata": {},
   "outputs": [],
   "source": [
    "plt.plot(ell, c_ell * ell * 1e7)\n",
    "plt.xlim(left=10, right=2000)\n",
    "plt.xscale(\"log\")"
   ]
  },
  {
   "cell_type": "code",
   "execution_count": null,
   "metadata": {},
   "outputs": [],
   "source": []
  }
 ],
 "metadata": {
  "kernelspec": {
   "display_name": "Python 3",
   "language": "python",
   "name": "python3"
  },
  "language_info": {
   "codemirror_mode": {
    "name": "ipython",
    "version": 3
   },
   "file_extension": ".py",
   "mimetype": "text/x-python",
   "name": "python",
   "nbconvert_exporter": "python",
   "pygments_lexer": "ipython3",
   "version": "3.7.5"
  }
 },
 "nbformat": 4,
 "nbformat_minor": 2
}
