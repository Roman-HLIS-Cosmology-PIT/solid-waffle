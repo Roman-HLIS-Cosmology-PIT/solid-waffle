{
 "cells": [
  {
   "cell_type": "code",
   "execution_count": null,
   "metadata": {},
   "outputs": [],
   "source": [
    "ppldir = \"/users/PCON0003/cond0088/Projects/detectors/sw_outputs/PPL_output\"\n",
    "# ir_file = open('%s/amidebug3_summary.txt'%ppldir) # this is a run with FULLNL turned off\n",
    "ir_file = open(\"%s/ppl_18241_withNL_apr12_summary.txt\" % ppldir)  # FULLNL turned to True True True\n",
    "# ir_file = open('%s/ppl_18241_noNL_apr12_summary.txt'%ppldir)\n",
    "ir_data = np.loadtxt(ir_file)\n",
    "ir_file.close()\n",
    "bfe = np.ma.masked_where(ir_data[:, 13:38] == 0, ir_data[:, 13:38])\n",
    "out_bfe_arr = bfe.reshape(bfe.shape[0], 5, 5)\n",
    "avg_bfe_arr = np.mean(out_bfe_arr, axis=0)\n",
    "print(np.round(1.0e6 * avg_bfe_arr, decimals=4))\n",
    "g = ir_data[:, 5].copy()\n",
    "print(g.mean())\n",
    "alphah = ir_data[:, 6].copy()\n",
    "alphav = ir_data[:, 7].copy()\n",
    "print(alphah.mean(), alphav.mean(), ((alphah + alphav) / 2.0).mean())\n",
    "print(alphah.std() / np.sqrt(32**2 - 1), alphav.std() / np.sqrt(32**2 - 1))"
   ]
  },
  {
   "cell_type": "code",
   "execution_count": null,
   "metadata": {},
   "outputs": [],
   "source": [
    "ppldir = \"/users/PCON0003/cond0088/Projects/detectors/sw_outputs/PPL_output\"\n",
    "# ir_file = open('%s/amidebug3_summary.txt'%ppldir) # this is a run with FULLNL turned off\n",
    "# ir_file = open('%s/ppl_18241_withNL_apr12_summary.txt'%ppldir)\n",
    "ir_file = open(\"%s/ppl_18241_noNL_apr12_summary.txt\" % ppldir)  # this one had FULLNL turned off\n",
    "ir_data = np.loadtxt(ir_file)\n",
    "ir_file.close()\n",
    "bfe = np.ma.masked_where(ir_data[:, 13:38] == 0, ir_data[:, 13:38])\n",
    "out_bfe_arr = bfe.reshape(bfe.shape[0], 5, 5)\n",
    "avg_bfe_arr = np.mean(out_bfe_arr, axis=0)\n",
    "print(np.round(1.0e6 * avg_bfe_arr, decimals=4))\n",
    "g = ir_data[:, 5].copy()\n",
    "print(g.mean())\n",
    "alphah = ir_data[:, 6].copy()\n",
    "alphav = ir_data[:, 7].copy()\n",
    "print(alphah.mean(), alphav.mean(), ((alphah + alphav) / 2.0).mean())"
   ]
  },
  {
   "cell_type": "code",
   "execution_count": null,
   "metadata": {},
   "outputs": [],
   "source": [
    "import pyirc\n",
    "\n",
    "pplf = \"/fs/scratch/cond0080/PPL_data/H4RG-18241/2021-01-22/PPL_sample_nocoldmask_0061.fits\"\n",
    "ppld = \"/fs/scratch/cond0080/PPL_data/H4RG-18241/2021-01-22/PPL_sample_nocoldmask_0041.fits\"\n",
    "formatpars = 5\n",
    "xyrange = [0, 4096, 0, 4096]  # Remember that the first four rows and columns are reference pixels\n",
    "tslices = [1, 2]\n",
    "# Recommended True (False defaults to astropy tools, which work but are slow because of the way this script works)\n",
    "use_fitsio = True\n",
    "\n",
    "# Get dimensions of output cube\n",
    "nxuse = xyrange[1] - xyrange[0]\n",
    "nyuse = xyrange[3] - xyrange[2]\n",
    "ntslice_use = len(tslices)\n",
    "realcube = np.zeros((ntslice_use, nyuse, nxuse))\n",
    "darkcube = np.zeros_like(realcube)\n",
    "realcube = pyirc.load_segment(pplf, formatpars, xyrange, tslices, verbose=True)\n",
    "darkcube = pyirc.load_segment(ppld, formatpars, xyrange, tslices, verbose=True)"
   ]
  },
  {
   "cell_type": "code",
   "execution_count": null,
   "metadata": {},
   "outputs": [],
   "source": [
    "print(realcube[0][100:105, 100:105])\n",
    "print(realcube[1][100:105, 100:105])\n",
    "print(\"DARK\")\n",
    "print(darkcube[0][100:105, 100:105])\n",
    "print(darkcube[1][100:105, 100:105])"
   ]
  },
  {
   "cell_type": "code",
   "execution_count": null,
   "metadata": {},
   "outputs": [],
   "source": [
    "# From Chaz's email, this is his IPC from hot pixels\n",
    "cs_ipc = np.array(([0.00185, 0.01413, 0.00184], [0.01924, 0.9322, 0.01831], [0.0014, 0.00948, 0.00154]))\n",
    "gsfc_ipc = np.array(([0.002, 0.018, 0.002], [0.021, 0.914, 0.021], [0.002, 0.017, 0.002]))\n",
    "print(\"Chaz: \", cs_ipc)\n",
    "print(cs_ipc[0, 1], cs_ipc[2, 1])\n",
    "cs_ah = np.mean((cs_ipc[1, 0], cs_ipc[1, 2]))\n",
    "cs_av = np.mean((cs_ipc[0, 1], cs_ipc[2, 1]))\n",
    "print(\"alpha_h: \", cs_ah, \" alpha_v: \", cs_av)\n",
    "print(\"alpha_h - offset: \", cs_ah - 0.0006, \" alpha_v - offset: \", cs_av - 0.0006)\n",
    "print(\"Goddard: \", gsfc_ipc)\n",
    "gsfc_ah = np.mean((gsfc_ipc[1, 0], gsfc_ipc[1, 2]))\n",
    "gsfc_av = np.mean((gsfc_ipc[0, 1], gsfc_ipc[2, 1]))\n",
    "print(\"alpha_h: \", gsfc_ah, \" alpha_v: \", gsfc_av)"
   ]
  },
  {
   "cell_type": "code",
   "execution_count": null,
   "metadata": {},
   "outputs": [],
   "source": [
    "# Tests\n",
    "# PSF is like Airy profile, FWHM~1.03 lambda F, with f/8 setup https://arxiv.org/pdf/1801.06599.pdf\n",
    "# I think Y-band (970-1070 nm)\n",
    "# But Chaz also sent a fits with the PSF profile, dated April 7\n",
    "# Could fit a Gaussian to it to get the rms per axis sigma for input into Chris's formula 7\n",
    "fdir = \"/fs/scratch/cond0080/PPL_data/H4RG-18241/2021-01-22\"\n",
    "psffile = \"%s/PPLPSF_lamda1_cd3_f8_pix1_noboxcar.fits\" % fdir\n",
    "\n",
    "import astropy.io.fits as fits\n",
    "\n",
    "hdu = fits.open(psffile)\n",
    "import matplotlib.pyplot as plt\n",
    "\n",
    "plt.imshow(hdu[0].data)"
   ]
  },
  {
   "cell_type": "code",
   "execution_count": null,
   "metadata": {},
   "outputs": [],
   "source": [
    "import matplotlib.pyplot as plt\n",
    "\n",
    "plt.imshow(hdu[0].data)"
   ]
  },
  {
   "cell_type": "code",
   "execution_count": null,
   "metadata": {},
   "outputs": [],
   "source": [
    "# From https://scipy-cookbook.readthedocs.io/items/FittingData.html\n",
    "def gaussian(height, center_x, center_y, width_x, width_y):\n",
    "    \"\"\"Returns a gaussian function with the given parameters\"\"\"\n",
    "    width_x = float(width_x)\n",
    "    width_y = float(width_y)\n",
    "    return lambda x, y: height * np.exp(\n",
    "        -(((center_x - x) / width_x) ** 2 + ((center_y - y) / width_y) ** 2) / 2\n",
    "    )\n",
    "\n",
    "\n",
    "def moments(data):\n",
    "    \"\"\"Returns (height, x, y, width_x, width_y)\n",
    "    the gaussian parameters of a 2D distribution by calculating its\n",
    "    moments\"\"\"\n",
    "    total = data.sum()\n",
    "    X, Y = np.indices(data.shape)\n",
    "    x = (X * data).sum() / total\n",
    "    y = (Y * data).sum() / total\n",
    "    col = data[:, int(y)]\n",
    "    width_x = np.sqrt(np.abs((np.arange(col.size) - x) ** 2 * col).sum() / col.sum())\n",
    "    row = data[int(x), :]\n",
    "    width_y = np.sqrt(np.abs((np.arange(row.size) - y) ** 2 * row).sum() / row.sum())\n",
    "    height = data.max()\n",
    "    return height, x, y, width_x, width_y\n",
    "\n",
    "\n",
    "def fitgaussian(data):\n",
    "    \"\"\"Returns (height, x, y, width_x, width_y)\n",
    "    the gaussian parameters of a 2D distribution found by a fit\"\"\"\n",
    "    params = moments(data)\n",
    "    errorfunction = lambda p: np.ravel(gaussian(*p)(*np.indices(data.shape)) - data)\n",
    "    p, success = optimize.leastsq(errorfunction, params)\n",
    "    return p"
   ]
  },
  {
   "cell_type": "code",
   "execution_count": null,
   "metadata": {},
   "outputs": [],
   "source": [
    "import numpy as np\n",
    "from scipy import optimize\n",
    "\n",
    "params = fitgaussian(hdu[0].data)\n",
    "fit = gaussian(*params)\n",
    "plt.imshow(hdu[0].data)\n",
    "plt.contour(fit(*np.indices(hdu[0].data.shape)), cmap=plt.cm.copper)\n",
    "ax = plt.gca()\n",
    "(height, x, y, width_x, width_y) = params\n",
    "\n",
    "plt.text(\n",
    "    0.95,\n",
    "    0.05,\n",
    "    \"\"\"\n",
    "x : %.1f\n",
    "y : %.1f\n",
    "width_x : %.1f\n",
    "width_y : %.1f\"\"\"\n",
    "    % (x, y, width_x, width_y),\n",
    "    fontsize=16,\n",
    "    horizontalalignment=\"right\",\n",
    "    verticalalignment=\"bottom\",\n",
    "    transform=ax.transAxes,\n",
    ")"
   ]
  },
  {
   "cell_type": "code",
   "execution_count": null,
   "metadata": {},
   "outputs": [],
   "source": []
  }
 ],
 "metadata": {
  "kernelspec": {
   "display_name": "Python (py3)",
   "language": "python",
   "name": "py3"
  },
  "language_info": {
   "codemirror_mode": {
    "name": "ipython",
    "version": 3
   },
   "file_extension": ".py",
   "mimetype": "text/x-python",
   "name": "python",
   "nbconvert_exporter": "python",
   "pygments_lexer": "ipython3",
   "version": "3.7.6"
  }
 },
 "nbformat": 4,
 "nbformat_minor": 4
}
