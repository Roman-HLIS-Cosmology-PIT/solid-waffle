{
 "cells": [
  {
   "cell_type": "code",
   "execution_count": 18,
   "metadata": {},
   "outputs": [
    {
     "name": "stdout",
     "output_type": "stream",
     "text": [
      "[[-0.0069 0.0097 0.0146 0.0146 0.0037]\n",
      " [0.0027 0.0801 0.307 0.0951 0.0044]\n",
      " [0.0204 0.2734 -1.2972 0.2734 0.0202]\n",
      " [0.026 0.0935 0.3123 0.1002 0.002]\n",
      " [0.0053 0.0087 0.0143 0.0004 -0.0037]]\n",
      "1.9772986925781253\n",
      "0.017983968303710934 0.008730234910644532 0.013357101607177735\n",
      "0.00013791676354685508 7.067996676739213e-05\n"
     ]
    }
   ],
   "source": [
    "ppldir='/users/PCON0003/cond0088/Projects/detectors/sw_outputs/PPL_output'\n",
    "#ir_file = open('%s/amidebug3_summary.txt'%ppldir) # this is a run with FULLNL turned off\n",
    "ir_file = open('%s/ppl_18241_withNL_apr12_summary.txt'%ppldir)  # FULLNL turned to True True True\n",
    "#ir_file = open('%s/ppl_18241_noNL_apr12_summary.txt'%ppldir)\n",
    "ir_data = np.loadtxt(ir_file)\n",
    "ir_file.close()\n",
    "bfe = np.ma.masked_where(ir_data[:,13:38]==0, ir_data[:,13:38])\n",
    "out_bfe_arr = bfe.reshape(bfe.shape[0],5,5)\n",
    "avg_bfe_arr = np.mean(out_bfe_arr,axis=0)\n",
    "print(np.round(1.E6*avg_bfe_arr,decimals=4))\n",
    "g = ir_data[:,5].copy()\n",
    "print(g.mean())\n",
    "alphah = ir_data[:,6].copy()\n",
    "alphav = ir_data[:,7].copy()\n",
    "print(alphah.mean(), alphav.mean(), ((alphah+alphav)/2.).mean())\n",
    "print(alphah.std()/np.sqrt(32**2 - 1), alphav.std()/np.sqrt(32**2 - 1))"
   ]
  },
  {
   "cell_type": "code",
   "execution_count": 17,
   "metadata": {},
   "outputs": [
    {
     "name": "stdout",
     "output_type": "stream",
     "text": [
      "[[-0.0016 0.0023 0.0164 0.0098 0.0066]\n",
      " [0.0034 0.0855 0.2619 0.0798 0.024]\n",
      " [0.0213 0.2268 -1.3275 0.2272 0.0225]\n",
      " [0.005 0.0806 0.2572 0.0673 0.0039]\n",
      " [0.0043 0.0144 0.0169 0.01 -0.0047]]\n",
      "1.9746477752929688\n",
      "0.018059509368164063 0.008786368977539063 0.013422939172851561\n"
     ]
    }
   ],
   "source": [
    "ppldir='/users/PCON0003/cond0088/Projects/detectors/sw_outputs/PPL_output'\n",
    "#ir_file = open('%s/amidebug3_summary.txt'%ppldir) # this is a run with FULLNL turned off\n",
    "#ir_file = open('%s/ppl_18241_withNL_apr12_summary.txt'%ppldir)\n",
    "ir_file = open('%s/ppl_18241_noNL_apr12_summary.txt'%ppldir)  # this one had FULLNL turned off\n",
    "ir_data = np.loadtxt(ir_file)\n",
    "ir_file.close()\n",
    "bfe = np.ma.masked_where(ir_data[:,13:38]==0, ir_data[:,13:38])\n",
    "out_bfe_arr = bfe.reshape(bfe.shape[0],5,5)\n",
    "avg_bfe_arr = np.mean(out_bfe_arr,axis=0)\n",
    "print(np.round(1.E6*avg_bfe_arr,decimals=4))\n",
    "g = ir_data[:,5].copy()\n",
    "print(g.mean())\n",
    "alphah = ir_data[:,6].copy()\n",
    "alphav = ir_data[:,7].copy()\n",
    "print(alphah.mean(), alphav.mean(), ((alphah+alphav)/2.).mean())\n"
   ]
  },
  {
   "cell_type": "code",
   "execution_count": 15,
   "metadata": {},
   "outputs": [
    {
     "name": "stdout",
     "output_type": "stream",
     "text": [
      "Reading: /fs/scratch/cond0080/PPL_data/H4RG-18241/2021-01-22/PPL_sample_nocoldmask_0061.fits\n",
      "Reading: /fs/scratch/cond0080/PPL_data/H4RG-18241/2021-01-22/PPL_sample_nocoldmask_0041.fits\n"
     ]
    }
   ],
   "source": [
    "import pyirc\n",
    "pplf='/fs/scratch/cond0080/PPL_data/H4RG-18241/2021-01-22/PPL_sample_nocoldmask_0061.fits'\n",
    "ppld='/fs/scratch/cond0080/PPL_data/H4RG-18241/2021-01-22/PPL_sample_nocoldmask_0041.fits'\n",
    "formatpars=5\n",
    "xyrange=[0,4096,0,4096] # Remember that the first four rows and columns are reference pixels\n",
    "tslices=[1, 2]\n",
    "# Recommended True (False defaults to astropy tools, which work but are slow because of the way this script works)\n",
    "use_fitsio = True\n",
    "\n",
    "# Get dimensions of output cube\n",
    "nxuse = xyrange[1]-xyrange[0]\n",
    "nyuse = xyrange[3]-xyrange[2]\n",
    "ntslice_use = len(tslices)\n",
    "realcube = np.zeros((ntslice_use, nyuse, nxuse))\n",
    "darkcube = np.zeros_like(realcube)\n",
    "realcube=pyirc.load_segment(pplf, formatpars, xyrange, tslices, verbose=True)\n",
    "darkcube=pyirc.load_segment(ppld, formatpars, xyrange, tslices, verbose=True)"
   ]
  },
  {
   "cell_type": "code",
   "execution_count": 16,
   "metadata": {},
   "outputs": [
    {
     "name": "stdout",
     "output_type": "stream",
     "text": [
      "[[55574. 56077. 55688. 56430. 55922.]\n",
      " [55871. 56088. 56851. 56468. 55893.]\n",
      " [55508. 55862. 55795. 55068. 55924.]\n",
      " [55797. 55822. 55725. 56317. 55897.]\n",
      " [55950. 55532. 55737. 55402. 55978.]]\n",
      "[[54136. 54680. 54228. 54938. 54449.]\n",
      " [54427. 54619. 55322. 54988. 54431.]\n",
      " [54032. 54443. 54309. 53645. 54466.]\n",
      " [54275. 54426. 54249. 54858. 54417.]\n",
      " [54515. 54211. 54367. 53982. 54458.]]\n",
      "DARK\n",
      "[[55738. 56255. 55933. 56673. 56109.]\n",
      " [56099. 56339. 57026. 56654. 56160.]\n",
      " [55762. 56015. 55960. 55302. 56104.]\n",
      " [55996. 56055. 55931. 56527. 56109.]\n",
      " [56150. 55735. 55960. 55618. 56186.]]\n",
      "[[55661. 56178. 55839. 56594. 56032.]\n",
      " [56021. 56263. 56961. 56555. 56072.]\n",
      " [55673. 55934. 55886. 55230. 56018.]\n",
      " [55914. 55958. 55847. 56450. 56029.]\n",
      " [56064. 55648. 55878. 55527. 56066.]]\n"
     ]
    }
   ],
   "source": [
    "print(realcube[0][100:105,100:105])\n",
    "print(realcube[1][100:105,100:105])\n",
    "print(\"DARK\")\n",
    "print(darkcube[0][100:105,100:105])\n",
    "print(darkcube[1][100:105,100:105])"
   ]
  },
  {
   "cell_type": "code",
   "execution_count": 21,
   "metadata": {},
   "outputs": [
    {
     "name": "stdout",
     "output_type": "stream",
     "text": [
      "Chaz:  [[0.00185 0.01413 0.00184]\n",
      " [0.01924 0.9322  0.01831]\n",
      " [0.0014  0.00948 0.00154]]\n",
      "0.01413 0.00948\n",
      "alpha_h:  0.018775  alpha_v:  0.011805\n",
      "alpha_h - offset:  0.018175  alpha_v - offset:  0.011205\n",
      "Goddard:  [[0.002 0.018 0.002]\n",
      " [0.021 0.914 0.021]\n",
      " [0.002 0.017 0.002]]\n",
      "alpha_h:  0.021  alpha_v:  0.0175\n"
     ]
    }
   ],
   "source": [
    "# From Chaz's email, this is his IPC from hot pixels\n",
    "cs_ipc = np.array(([ 0.00185,  0.01413,  0.00184],[ 0.01924,  0.9322,   0.01831],[ 0.0014,   0.00948,  0.00154]))\n",
    "gsfc_ipc = np.array(([ 0.002, 0.018, 0.002], [0.021, 0.914, 0.021], [0.002, 0.017, 0.002]))\n",
    "print(\"Chaz: \",cs_ipc)\n",
    "print(cs_ipc[0,1], cs_ipc[2,1])\n",
    "cs_ah = np.mean((cs_ipc[1,0], cs_ipc[1, 2]))\n",
    "cs_av = np.mean((cs_ipc[0,1], cs_ipc[2,1]))\n",
    "print(\"alpha_h: \",cs_ah, \" alpha_v: \", cs_av)\n",
    "print(\"alpha_h - offset: \", cs_ah-0.0006, \" alpha_v - offset: \", cs_av-0.0006)\n",
    "print(\"Goddard: \",gsfc_ipc)\n",
    "gsfc_ah = np.mean((gsfc_ipc[1,0], gsfc_ipc[1, 2]))\n",
    "gsfc_av = np.mean((gsfc_ipc[0,1], gsfc_ipc[2,1]))\n",
    "print(\"alpha_h: \",gsfc_ah, \" alpha_v: \", gsfc_av)\n"
   ]
  },
  {
   "cell_type": "code",
   "execution_count": 1,
   "metadata": {},
   "outputs": [],
   "source": [
    "# Tests\n",
    "# PSF is like Airy profile, FWHM~1.03 lambda F, with f/8 setup https://arxiv.org/pdf/1801.06599.pdf\n",
    "# I think Y-band (970-1070 nm)\n",
    "# But Chaz also sent a fits with the PSF profile, dated April 7\n",
    "# Could fit a Gaussian to it to get the rms per axis sigma for input into Chris's formula 7\n",
    "fdir='/fs/scratch/cond0080/PPL_data/H4RG-18241/2021-01-22'\n",
    "psffile='%s/PPLPSF_lamda1_cd3_f8_pix1_noboxcar.fits'%fdir\n",
    "\n",
    "import astropy.io.fits as fits\n",
    "hdu = fits.open(psffile)\n",
    "import matplotlib.pyplot as plt\n",
    "plt.imshow(hdu[0].data)"
   ]
  },
  {
   "cell_type": "code",
   "execution_count": 5,
   "metadata": {},
   "outputs": [
    {
     "data": {
      "text/plain": [
       "<matplotlib.image.AxesImage at 0x2ba2108c9810>"
      ]
     },
     "execution_count": 5,
     "metadata": {},
     "output_type": "execute_result"
    },
    {
     "data": {
      "image/png": "[encoded data removed]",
      "text/plain": [
       "<Figure size 432x288 with 1 Axes>"
      ]
     },
     "metadata": {
      "needs_background": "light"
     },
     "output_type": "display_data"
    }
   ],
   "source": [
    "import matplotlib.pyplot as plt\n",
    "plt.imshow(hdu[0].data)"
   ]
  },
  {
   "cell_type": "code",
   "execution_count": 6,
   "metadata": {},
   "outputs": [],
   "source": [
    "# From https://scipy-cookbook.readthedocs.io/items/FittingData.html\n",
    "def gaussian(height, center_x, center_y, width_x, width_y):\n",
    "    \"\"\"Returns a gaussian function with the given parameters\"\"\"\n",
    "    width_x = float(width_x)\n",
    "    width_y = float(width_y)\n",
    "    return lambda x,y: height*np.exp(\n",
    "                -(((center_x-x)/width_x)**2+((center_y-y)/width_y)**2)/2)\n",
    "\n",
    "def moments(data):\n",
    "    \"\"\"Returns (height, x, y, width_x, width_y)\n",
    "    the gaussian parameters of a 2D distribution by calculating its\n",
    "    moments \"\"\"\n",
    "    total = data.sum()\n",
    "    X, Y = np.indices(data.shape)\n",
    "    x = (X*data).sum()/total\n",
    "    y = (Y*data).sum()/total\n",
    "    col = data[:, int(y)]\n",
    "    width_x = np.sqrt(np.abs((np.arange(col.size)-x)**2*col).sum()/col.sum())\n",
    "    row = data[int(x), :]\n",
    "    width_y = np.sqrt(np.abs((np.arange(row.size)-y)**2*row).sum()/row.sum())\n",
    "    height = data.max()\n",
    "    return height, x, y, width_x, width_y\n",
    "\n",
    "def fitgaussian(data):\n",
    "    \"\"\"Returns (height, x, y, width_x, width_y)\n",
    "    the gaussian parameters of a 2D distribution found by a fit\"\"\"\n",
    "    params = moments(data)\n",
    "    errorfunction = lambda p: np.ravel(gaussian(*p)(*np.indices(data.shape)) -\n",
    "                                 data)\n",
    "    p, success = optimize.leastsq(errorfunction, params)\n",
    "    return p"
   ]
  },
  {
   "cell_type": "code",
   "execution_count": 9,
   "metadata": {},
   "outputs": [
    {
     "data": {
      "text/plain": [
       "Text(0.95,0.05,'\\nx : 99.5\\ny : 99.5\\nwidth_x : 4.4\\nwidth_y : 4.4')"
      ]
     },
     "execution_count": 9,
     "metadata": {},
     "output_type": "execute_result"
    },
    {
     "data": {
      "image/png": "[encoded data removed]",
      "text/plain": [
       "<Figure size 432x288 with 1 Axes>"
      ]
     },
     "metadata": {
      "needs_background": "light"
     },
     "output_type": "display_data"
    }
   ],
   "source": [
    "import numpy as np\n",
    "from scipy import optimize\n",
    "params = fitgaussian(hdu[0].data)\n",
    "fit = gaussian(*params)\n",
    "plt.imshow(hdu[0].data)\n",
    "plt.contour(fit(*np.indices(hdu[0].data.shape)), cmap=plt.cm.copper)\n",
    "ax = plt.gca()\n",
    "(height, x, y, width_x, width_y) = params\n",
    "\n",
    "plt.text(0.95, 0.05, \"\"\"\n",
    "x : %.1f\n",
    "y : %.1f\n",
    "width_x : %.1f\n",
    "width_y : %.1f\"\"\" %(x, y, width_x, width_y),\n",
    "        fontsize=16, horizontalalignment='right',\n",
    "        verticalalignment='bottom', transform=ax.transAxes)"
   ]
  },
  {
   "cell_type": "code",
   "execution_count": null,
   "metadata": {},
   "outputs": [],
   "source": []
  }
 ],
 "metadata": {
  "kernelspec": {
   "display_name": "Python (py3)",
   "language": "python",
   "name": "py3"
  },
  "language_info": {
   "codemirror_mode": {
    "name": "ipython",
    "version": 3
   },
   "file_extension": ".py",
   "mimetype": "text/x-python",
   "name": "python",
   "nbconvert_exporter": "python",
   "pygments_lexer": "ipython3",
   "version": "3.7.6"
  }
 },
 "nbformat": 4,
 "nbformat_minor": 4
}
