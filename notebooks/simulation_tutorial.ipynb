{
 "cells": [
  {
   "cell_type": "markdown",
   "metadata": {},
   "source": [
    "# Setting up simulations, creating them, and related tests"
   ]
  },
  {
   "cell_type": "markdown",
   "metadata": {},
   "source": [
    "## Matching characteristics of the real data\n",
    "\n",
    "The attributes of the simulation are provided by the user in a configuration file.  These include:\n",
    "* Quantities you might read from the headers of the real data, or in reports that the Detector Characterization Lab (DCL) have provided:\n",
    " * time steps between each sampled frame (DT)\n",
    " * quantum efficiency (QE)\n",
    "* Quantities drawn from `solid-waffle` fits:\n",
    " * gain in e/DN (GAIN)\n",
    " * illumination in terms of current in e (ILLUMINATION)\n",
    " * linear interpixel capacitance coefficient, $\\alpha$ (L_IPC)\n",
    " * brighter-fatter coefficients (currently hard-coded in `detector_functions.py`)\n",
    " \n",
    "It may be useful to make some adjustments specific to the data format, for example the FORMAT, but the code currently only supports FORMAT 1. FORMAT is described in detail early in `ScriptInformation.txt`.  Note that many of the recent H4RG-10 data provided by the DCL (e.g., SCA 20829) have FORMAT 4.  In principle, `solid-waffle` results should not care which format is used."
   ]
  },
  {
   "cell_type": "code",
   "execution_count": 2,
   "metadata": {},
   "outputs": [
    {
     "name": "stdout",
     "output_type": "stream",
     "text": [
      "Reading: /fs/scratch/PCON0003/cond0007/SCA20829//20191018_95K_1p1m0p1_ch0_1400nm_gr3_filt5_shutter_closed_20829_001.fits\n"
     ]
    }
   ],
   "source": [
    "# Comparing simulated flats and darks with real ones\n",
    "import fitsio\n",
    "import numpy as np\n",
    "import sys\n",
    "sys.path.append(\"../\")\n",
    "import pyirc\n",
    "# Paths are at the Ohio Supercomputer Center\n",
    "simdir='/fs/project/PCON0003/ami/simulated_detector/'\n",
    "datadir='/fs/scratch/PCON0003/cond0007/SCA20829/'\n",
    "simflat='%s/vissim_bfe_ipc_offdiagp2_flat1.fits'%simdir\n",
    "simdark='%s/vissim_bfe_ipc_offdiagp2_dark1.fits'%simdir\n",
    "realflat='%s/20191018_95K_1p1m0p1_ch3_1400nm_gr3_filt5_shutter_open_20829_001.fits'%datadir\n",
    "realdark='%s/20191018_95K_1p1m0p1_ch0_1400nm_gr3_filt5_shutter_closed_20829_001.fits'%datadir\n",
    "# More efficient to use pyirc tools to do this by superpixel because reading in the whole\n",
    "# datacube takes up a lot of memory\n",
    "\n",
    "# Use load_segment from pyirc\n",
    "# Function to load an image segment\n",
    "#\n",
    "# filename = name of the source FITS file\n",
    "# formatpars = integer describing which type of format to use\n",
    "#     format 1: H4RG, all data in a single HDU, ramp slope positive (ex. DCL H4RG-18237 data)\n",
    "# xyrange = list [xmin,xmax,ymin,ymax] (first row/col are zero) -- EXcluding xmax and ymax!\n",
    "# tslices = list of time slices to use (first is *1*)\n",
    "# verbose = True or False (use True only for de-bugging)\n",
    "#\n",
    "# Returns a 3D array of dimension number tslices, ymax-ymin, xmax-xmin\n",
    "#\n",
    "formatpars=4\n",
    "xyrange=[0,4096,0,4096] # Remember that the first four rows and columns are reference pixels\n",
    "tslices=[1, 2, 3, 4, 5, 60]\n",
    "# Recommended True (False defaults to astropy tools, which work but are slow because of the way this script works)\n",
    "use_fitsio = True\n",
    "\n",
    "# Get dimensions of output cube\n",
    "nxuse = xyrange[1]-xyrange[0]\n",
    "nyuse = xyrange[3]-xyrange[2]\n",
    "ntslice_use = len(tslices)\n",
    "realdarkcube = np.zeros((ntslice_use, nyuse, nxuse))\n",
    "\n",
    "realdarkcube=pyirc.load_segment(realdark, formatpars, xyrange, tslices, verbose=True)"
   ]
  },
  {
   "cell_type": "markdown",
   "metadata": {},
   "source": [
    "Some of the useful values we can get from the `solid-waffle` runs on SCA 20829 described in Freudenburg, Givans et al. (https://arxiv.org/pdf/2003.05978.pdf) Table 4 on page 26 of the arxiv pdf version.  These are all for the infrared data.\n",
    "\n",
    "charge Q =  3051.5 e  Note that to get the `ILLUMINATION` which is e/s, we divide Q by t=2.75s to get 1109.64 e/s\n",
    "\n",
    "gain g = 1.7285 e/DN\n",
    "\n",
    "alpha =  0.01379 (we'll take the average and assume symmetry for now)\n",
    "\n",
    "$\\beta_2$g = 2.8147E6 (DN$^{-1})\n",
    "\n",
    "$\\beta_3$g$^2$ = -1.0841E10 (DN$^{-2})\n",
    "\n",
    "$\\beta_4$g$^2$ = 2.3025E10 (DN$^{-3})\n",
    "\n",
    "I also took a glance at the acceptance test reports available from the detector characterization lab (linked from internal STScI webserver) for 20828 and 20663, and the QE looked to be around 95\\% for 20663 and higher, maybe 99\\% for 20828.  I didn't see a report for 20829, so let's just go with QE=95\\% for the simulation config."
   ]
  },
  {
   "cell_type": "markdown",
   "metadata": {},
   "source": [
    "One useful thing is to know where the real dark signal level is at and how it compares to the simulated dark signal level"
   ]
  },
  {
   "cell_type": "code",
   "execution_count": 4,
   "metadata": {},
   "outputs": [
    {
     "name": "stdout",
     "output_type": "stream",
     "text": [
      "(6, 4096, 4096)\n",
      "53927.357412069025\n",
      "53927.42432333813\n",
      "53927.82983667055\n",
      "53928.51856957598\n",
      "53928.35626479199\n",
      "53929.99498598112\n"
     ]
    }
   ],
   "source": [
    "# Find where the real dark signal level is\n",
    "print(realdarkcube.shape)\n",
    "\n",
    "# Print out the means, subtract them from 65535 as format 4 signals decrease with time increasing\n",
    "# and currently the simulated flats will only simulate format 1 with increasing signals with time increasing\n",
    "for tdx in range(len(tslices)):\n",
    "    print(np.mean(realdarkcube[tdx,4:-4, 4:-4]))\n"
   ]
  },
  {
   "cell_type": "code",
   "execution_count": 5,
   "metadata": {},
   "outputs": [
    {
     "name": "stdout",
     "output_type": "stream",
     "text": [
      "Reading: /fs/project/PCON0003/ami/simulated_detector//vissim_bfe_ipc_offdiagp2_dark1.fits\n",
      "(6, 4096, 4096)\n",
      "(4088, 4088)\n",
      "65468.8306833805\n",
      "65468.55226653783\n",
      "65468.27122950184\n",
      "65467.99497365446\n",
      "65467.713278279036\n",
      "65452.30772479521\n"
     ]
    }
   ],
   "source": [
    "# Compare to the simulated dark signal level\n",
    "simdarkcube=np.zeros_like(realdarkcube)\n",
    "simdarkcube=pyirc.load_segment(simdark, 1, xyrange, tslices, verbose=True)\n",
    "print(simdarkcube.shape)\n",
    "print(simdarkcube[tdx,4:-4, 4:-4].shape)\n",
    "# Print out the means\n",
    "for tdx in range(len(tslices)):\n",
    "    print(np.mean(simdarkcube[tdx,4:-4, 4:-4]))\n"
   ]
  },
  {
   "cell_type": "markdown",
   "metadata": {},
   "source": [
    "The simulated darks seem a bit different in terms of signal level. This can be adjusted by tuning\n",
    "```RESET_E: 1.0e2```\n",
    "in the configuration file that gets passed to the ```simulate_flat.py``` script."
   ]
  },
  {
   "cell_type": "code",
   "execution_count": null,
   "metadata": {},
   "outputs": [],
   "source": []
  }
 ],
 "metadata": {
  "kernelspec": {
   "display_name": "Python (py3)",
   "language": "python",
   "name": "py3"
  },
  "language_info": {
   "codemirror_mode": {
    "name": "ipython",
    "version": 3
   },
   "file_extension": ".py",
   "mimetype": "text/x-python",
   "name": "python",
   "nbconvert_exporter": "python",
   "pygments_lexer": "ipython3",
   "version": "3.7.6"
  }
 },
 "nbformat": 4,
 "nbformat_minor": 4
}
