{
 "cells": [
  {
   "cell_type": "markdown",
   "metadata": {},
   "source": [
    "## Matching characteristics of the real data\n",
    "\n",
    "The attributes of the simulation are provided by the user in a configuration file.  These include:\n",
    "* Quantities you might read from the headers of the real data, or in reports that the Detector Characterization Lab (DCL) have provided:\n",
    " * time steps between each sampled frame (DT)\n",
    " * quantum efficiency (QE)\n",
    "* Quantities drawn from `solid-waffle` fits:\n",
    " * gain in e/DN (GAIN)\n",
    " * illumination in terms of current in e (ILLUMINATION)\n",
    " * linear interpixel capacitance coefficient, $\\alpha$ (L_IPC)\n",
    " * brighter-fatter coefficients (currently hard-coded in `detector_functions.py`)\n",
    " \n",
    "It may be useful to make some adjustments specific to the data format, for example the FORMAT, but the code currently only supports FORMAT 1. FORMAT is described in detail early in `ScriptInformation.txt`.  Note that many of the recent H4RG-10 data provided by the DCL (e.g., SCA 20829) have FORMAT 4.  In principle, `solid-waffle` results should not care which format is used."
   ]
  },
  {
   "cell_type": "code",
   "execution_count": 16,
   "metadata": {},
   "outputs": [
    {
     "name": "stdout",
     "output_type": "stream",
     "text": [
      "Reading: /fs/scratch/PCON0003/cond0007/SCA20829//20191018_95K_1p1m0p1_ch0_1400nm_gr3_filt5_shutter_closed_20829_001.fits\n"
     ]
    }
   ],
   "source": [
    "# Comparing simulated flats and darks with real ones\n",
    "import fitsio\n",
    "import numpy as np\n",
    "import sys\n",
    "sys.path.append(\"../\")\n",
    "import pyirc\n",
    "# Paths are at the Ohio Supercomputer Center\n",
    "simdir='/fs/project/PCON0003/ami/simulated_detector/'\n",
    "datadir='/fs/scratch/PCON0003/cond0007/SCA20829/'\n",
    "#simflat='%s/vissim_bfe_ipc_offdiagp2_flat1.fits'%simdir\n",
    "simflat='%s/sca20829_irsim_diffbfe_flat1.fits'%simdir\n",
    "#simdark='%s/vissim_bfe_ipc_offdiagp2_dark1.fits'%simdir\n",
    "#simdark='%s/sca20829_irsim_diffbfe_dark2.fits'%simdir\n",
    "simdark='%s/sca20829_irsim_diffbfe_dark5_TESTWAVEMODE.fits'%simdir\n",
    "realflat='%s/20191018_95K_1p1m0p1_ch3_1400nm_gr3_filt5_shutter_open_20829_001.fits'%datadir\n",
    "realdark='%s/20191018_95K_1p1m0p1_ch0_1400nm_gr3_filt5_shutter_closed_20829_001.fits'%datadir\n",
    "# More efficient to use pyirc tools to do this by superpixel because reading in the whole\n",
    "# datacube takes up a lot of memory\n",
    "\n",
    "# Use load_segment from pyirc\n",
    "# Function to load an image segment\n",
    "#\n",
    "# filename = name of the source FITS file\n",
    "# formatpars = integer describing which type of format to use\n",
    "#     format 1: H4RG, all data in a single HDU, ramp slope positive (ex. DCL H4RG-18237 data)\n",
    "# xyrange = list [xmin,xmax,ymin,ymax] (first row/col are zero) -- EXcluding xmax and ymax!\n",
    "# tslices = list of time slices to use (first is *1*)\n",
    "# verbose = True or False (use True only for de-bugging)\n",
    "#\n",
    "# Returns a 3D array of dimension number tslices, ymax-ymin, xmax-xmin\n",
    "#\n",
    "formatpars=4\n",
    "xyrange=[0,4096,0,4096] # Remember that the first four rows and columns are reference pixels\n",
    "tslices=[1, 2, 3, 4, 5, 60]\n",
    "# Recommended True (False defaults to astropy tools, which work but are slow because of the way this script works)\n",
    "use_fitsio = True\n",
    "\n",
    "# Get dimensions of output cube\n",
    "nxuse = xyrange[1]-xyrange[0]\n",
    "nyuse = xyrange[3]-xyrange[2]\n",
    "ntslice_use = len(tslices)\n",
    "realdarkcube = np.zeros((ntslice_use, nyuse, nxuse))\n",
    "\n",
    "realdarkcube=pyirc.load_segment(realdark, formatpars, xyrange, tslices, verbose=True)"
   ]
  },
  {
   "cell_type": "markdown",
   "metadata": {},
   "source": [
    "Some of the useful values we can get from the `solid-waffle` runs on SCA 20829 described in Freudenburg, Givans et al. (https://arxiv.org/pdf/2003.05978.pdf) Table 4 on page 26 of the arxiv pdf version.  These are all for the infrared data.\n",
    "\n",
    "charge Q =  3051.5 e  Note that to get the `ILLUMINATION` which is e/s, we divide Q by t=2.75s to get 1109.64 e/s\n",
    "\n",
    "gain g = 1.7285 e/DN\n",
    "\n",
    "alpha =  0.01379 (we'll take the average and assume symmetry for now)\n",
    "\n",
    "$\\beta_2$g = 2.8147E6 (DN$^{-1})\n",
    "\n",
    "$\\beta_3$g$^2$ = -1.0841E10 (DN$^{-2})\n",
    "\n",
    "$\\beta_4$g$^2$ = 2.3025E10 (DN$^{-3})\n",
    "\n",
    "I also took a glance at the acceptance test reports available from the detector characterization lab (linked from internal STScI webserver) for 20828 and 20663, and the QE looked to be around 95\\% for 20663 and higher, maybe 99\\% for 20828.  I didn't see a report for 20829, so let's just go with QE=95\\% for the simulation config.  The dark current for 20828 is 0.007 e/s and 0.005 e/s for 20663, so let's go with 0.007 e/s."
   ]
  },
  {
   "cell_type": "markdown",
   "metadata": {},
   "source": [
    "One useful thing is to know where the real dark signal level is at and how it compares to the simulated dark signal level"
   ]
  },
  {
   "cell_type": "code",
   "execution_count": 2,
   "metadata": {},
   "outputs": [
    {
     "name": "stdout",
     "output_type": "stream",
     "text": [
      "(6, 4096, 4096)\n",
      "53927.357412069025\n",
      "53927.42432333813\n",
      "53927.82983667055\n",
      "53928.51856957598\n",
      "53928.35626479199\n",
      "53929.99498598112\n"
     ]
    }
   ],
   "source": [
    "# Find where the real dark signal level is\n",
    "print(realdarkcube.shape)\n",
    "\n",
    "# Print out the means, subtract them from 65535 as format 4 signals decrease with time increasing\n",
    "# and currently the simulated flats will only simulate format 1 with increasing signals with time increasing\n",
    "for tdx in range(len(tslices)):\n",
    "    print(np.mean(realdarkcube[tdx,4:-4, 4:-4]))\n"
   ]
  },
  {
   "cell_type": "code",
   "execution_count": 17,
   "metadata": {},
   "outputs": [
    {
     "name": "stdout",
     "output_type": "stream",
     "text": [
      "Reading: /fs/project/PCON0003/ami/simulated_detector//sca20829_irsim_diffbfe_dark5_TESTWAVEMODE.fits\n",
      "(6, 4096, 4096)\n",
      "(4088, 4088)\n",
      "52807.70071801004\n",
      "52806.94594884891\n",
      "52806.188039141816\n",
      "52805.434185325\n",
      "52804.67952303482\n",
      "52763.113059055955\n"
     ]
    }
   ],
   "source": [
    "# Compare to the simulated dark signal level\n",
    "simdarkcube=np.zeros_like(realdarkcube)\n",
    "simdarkcube=pyirc.load_segment(simdark, 1, xyrange, tslices, verbose=True)\n",
    "print(simdarkcube.shape)\n",
    "print(simdarkcube[tdx,4:-4, 4:-4].shape)\n",
    "# Print out the means\n",
    "for tdx in range(len(tslices)):\n",
    "    print(np.mean(simdarkcube[tdx,4:-4, 4:-4]))\n"
   ]
  },
  {
   "cell_type": "markdown",
   "metadata": {},
   "source": [
    "The simulated darks seem a bit different in terms of signal level for the first comparisons I am making: 53927.4 in the real dark and 65477.6 in the simulated dark. This can be adjusted by tuning\n",
    "```RESET_E: 1.0e2```\n",
    "in the configuration file that gets passed to the ```simulate_flat.py``` script."
   ]
  },
  {
   "cell_type": "markdown",
   "metadata": {},
   "source": [
    "## Finding the BFE kernel values from the `solid-waffle` IR and visible runs\n",
    "This draws from the code Anna wrote in `plots_fiducial.ipynb` to read in the BFE kernels from the IR and visible outputs.  Then we would like to average the values over superpixels to get a rough input for the simulations."
   ]
  },
  {
   "cell_type": "code",
   "execution_count": 15,
   "metadata": {},
   "outputs": [
    {
     "name": "stdout",
     "output_type": "stream",
     "text": [
      "[[ 0.002428  0.018179  0.034335  0.017008  0.005557]\n",
      " [ 0.010687  0.103002  0.389114  0.11482   0.009735]\n",
      " [ 0.023426  0.362651 -1.971387  0.385713  0.031503]\n",
      " [ 0.015851  0.118116  0.440877  0.110673  0.010928]\n",
      " [ 0.006783  0.016524  0.031761  0.02166   0.007196]]\n",
      "0.31714\n",
      "[[ 0.000223 -0.001887  0.012268  0.0083   -0.006043]\n",
      " [ 0.010682  0.098918  0.379619  0.111994  0.022616]\n",
      " [ 0.016828  0.342355 -2.08724   0.36191   0.01779 ]\n",
      " [ 0.00773   0.105579  0.422182  0.100917  0.008805]\n",
      " [ 0.003546 -0.000805  0.028231  0.00376   0.004999]]\n",
      "-0.026723000000000028\n",
      "[['-2,-2' '-1,-2' '0,-2' '1,-2' '2,-2']\n",
      " ['-2,-1' '-1,-1' '0,-1' '1,-1' '2,-1']\n",
      " ['-2,0' '-1,0' '0,0' '1,0' '2,0']\n",
      " ['-2,1' '-1,1' '0,1' '1,1' '2,1']\n",
      " ['-2,2' '-1,2' '0,2' '1,2' '2,2']]\n"
     ]
    }
   ],
   "source": [
    "np.set_printoptions(suppress=True),\n",
    "outputdir='/users/PCON0003/cond0088/Projects/detectors/sw_outputs/PaperIV_chargediffusion'\n",
    "ir_file = open('%s/chris_20829vis_fid1_summary.txt'%outputdir)\n",
    "ir_data = np.loadtxt(ir_file)\n",
    "ir_file.close()\n",
    "bfe = np.ma.masked_where(ir_data[:,13:38]==0, ir_data[:,13:38])\n",
    "out_bfe_arr = bfe.reshape(bfe.shape[0],5,5)\n",
    "avg_bfe_arr = np.mean(out_bfe_arr,axis=0)\n",
    "# Print in ppm/e for ease of visual comparison\n",
    "print(np.round(1.E6*avg_bfe_arr,decimals=6))\n",
    "# Check also how much it deviates from summing to zero\n",
    "print(np.round(1.E6*avg_bfe_arr,decimals=6).sum())\n",
    "\n",
    "vis_file = open('%s/chris_20829vis_fid1_visinfo.txt'%outputdir)\n",
    "vis_data = np.loadtxt(vis_file)\n",
    "vis_file.close()\n",
    "vis_bfe = np.ma.masked_where(vis_data[:,:25]==0, vis_data[:,:25])\n",
    "out_visbfe_arr = vis_bfe.reshape(vis_bfe.shape[0],5,5)\n",
    "avg_visbfe_arr = np.mean(out_visbfe_arr,axis=0)\n",
    "print(np.round(1.E6*avg_visbfe_arr,decimals=6))\n",
    "print(np.round(1.E6*avg_visbfe_arr,decimals=6).sum())\n",
    "\"\"\"ir_cols = ['superX','superY','goodpix','raw_gain','gain_alpha','gain_alphabeta',\n",
    "                'alphaH','alphaV','betaNL','q_per_t','alphaD','cH','cV',\n",
    "                'bfe_IR(-2,-2)','bfe_IR(-1,-2)','bfe_IR(0,-2)','bfe_IR(1,-2)','bfe_IR(2,-2)',\n",
    "                'bfe_IR(-2,-1)', 'bfe_IR(-1,-1)','bfe_IR(0,-1)','bfe_IR(1,-1)','bfe_IR(2,-1)',\n",
    "                'bfe_IR(-2,0)','bfe_IR(-1,0)','bfe_IR(0,0)','bfe_IR(1,0)','bfe_IR(2,0)',\n",
    "                'bfe_IR(-2,1)','bfe_IR(-1,1)','bfe_IR(0,1)','bfe_IR(1,1)','bfe_IR(2,1)',\n",
    "                'bfe_IR(-2,2)','bfe_IR(-1,2)','bfe_IR(0,2)','bfe_IR(1,2)','bfe_IR(2,2)',\n",
    "                't_intercept','beta2','beta3','beta4']\"\"\"\n",
    "# double-checking how np.reshape maps to indices\n",
    "test = np.array(('-2,-2','-1,-2','0,-2','1,-2','2,-2','-2,-1','-1,-1','0,-1','1,-1','2,-1','-2,0','-1,0','0,0','1,0','2,0','-2,1','-1,1','0,1','1,1','2,1','-2,2','-1,2','0,2','1,2','2,2'))\n",
    "print(test.reshape((5,5)))"
   ]
  }
 ],
 "metadata": {
  "kernelspec": {
   "display_name": "Python (py3)",
   "language": "python",
   "name": "py3"
  },
  "language_info": {
   "codemirror_mode": {
    "name": "ipython",
    "version": 3
   },
   "file_extension": ".py",
   "mimetype": "text/x-python",
   "name": "python",
   "nbconvert_exporter": "python",
   "pygments_lexer": "ipython3",
   "version": "3.7.6"
  }
 },
 "nbformat": 4,
 "nbformat_minor": 4
}
