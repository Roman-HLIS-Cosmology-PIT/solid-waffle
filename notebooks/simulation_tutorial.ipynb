{
 "cells": [
  {
   "cell_type": "markdown",
   "metadata": {},
   "source": [
    "## Matching characteristics of the real data\n",
    "\n",
    "The attributes of the simulation are provided by the user in a configuration file.  These include:\n",
    "* Quantities you might read from the headers of the real data, or in reports that the Detector Characterization Lab (DCL) have provided:\n",
    " * time steps between each sampled frame (DT)\n",
    " * quantum efficiency (QE)\n",
    "* Quantities drawn from `solid-waffle` fits:\n",
    " * gain in e/DN (GAIN)\n",
    " * illumination in terms of current in e (ILLUMINATION)\n",
    " * linear interpixel capacitance coefficient, $\\alpha$ (L_IPC)\n",
    " * brighter-fatter coefficients (currently hard-coded in `detector_functions.py`)\n",
    " \n",
    "It may be useful to make some adjustments specific to the data format, for example the FORMAT, but the code currently only supports FORMAT 1. FORMAT is described in detail early in `ScriptInformation.txt`.  Note that many of the recent H4RG-10 data provided by the DCL (e.g., SCA 20829) have FORMAT 4.  In principle, `solid-waffle` results should not care which format is used so long as you specify the correct format in the config file."
   ]
  },
  {
   "cell_type": "code",
   "execution_count": 1,
   "metadata": {},
   "outputs": [
    {
     "name": "stdout",
     "output_type": "stream",
     "text": [
      "Reading: /fs/scratch/PCON0003/cond0007/SCA20829//20191018_95K_1p1m0p1_ch0_1400nm_gr3_filt5_shutter_closed_20829_001.fits\n"
     ]
    }
   ],
   "source": [
    "# Comparing simulated flats and darks with real ones\n",
    "import fitsio\n",
    "import numpy as np\n",
    "import sys\n",
    "sys.path.append(\"../\")\n",
    "import pyirc\n",
    "# Paths are at the Ohio Supercomputer Center\n",
    "simdir='/fs/project/PCON0003/ami/simulated_detector/'\n",
    "datadir='/fs/scratch/PCON0003/cond0007/SCA20829/'\n",
    "simflat='%s/mar11_sca20829_vissim_diffbfe_flat1.fits'%simdir\n",
    "#simflat='%s/vissim_bfe_ipc_offdiagp2_flat1.fits'%simdir\n",
    "#simflat='%s/sca20829_irsim_diffbfe_flat1.fits'%simdir\n",
    "#simdark='%s/vissim_bfe_ipc_offdiagp2_dark1.fits'%simdir\n",
    "#simdark='%s/sca20829_irsim_diffbfe_dark2.fits'%simdir\n",
    "#simdark='%s/sca20829_irsim_diffbfe_dark5_TESTWAVEMODE.fits'%simdir\n",
    "simdark='%s/mar11_sca20829_vissim_diffbfe_dark1.fits'%simdir\n",
    "realflat='%s/20191018_95K_1p1m0p1_ch3_1400nm_gr3_filt5_shutter_open_20829_001.fits'%datadir\n",
    "realdark='%s/20191018_95K_1p1m0p1_ch0_1400nm_gr3_filt5_shutter_closed_20829_001.fits'%datadir\n",
    "# More efficient to use pyirc tools to do this by superpixel because reading in the whole\n",
    "# datacube takes up a lot of memory\n",
    "\n",
    "# Use load_segment from pyirc\n",
    "# Function to load an image segment\n",
    "#\n",
    "# filename = name of the source FITS file\n",
    "# formatpars = integer describing which type of format to use\n",
    "#     format 1: H4RG, all data in a single HDU, ramp slope positive (ex. DCL H4RG-18237 data)\n",
    "# xyrange = list [xmin,xmax,ymin,ymax] (first row/col are zero) -- EXcluding xmax and ymax!\n",
    "# tslices = list of time slices to use (first is *1*)\n",
    "# verbose = True or False (use True only for de-bugging)\n",
    "#\n",
    "# Returns a 3D array of dimension number tslices, ymax-ymin, xmax-xmin\n",
    "#\n",
    "formatpars=4\n",
    "xyrange=[0,4096,0,4096] # Remember that the first four rows and columns are reference pixels\n",
    "tslices=[1, 2, 3, 4, 5, 10,20,30,35,40,50,60]\n",
    "# Recommended True (False defaults to astropy tools, which work but are slow because of the way this script works)\n",
    "use_fitsio = True\n",
    "\n",
    "# Get dimensions of output cube\n",
    "nxuse = xyrange[1]-xyrange[0]\n",
    "nyuse = xyrange[3]-xyrange[2]\n",
    "ntslice_use = len(tslices)\n",
    "realdarkcube = np.zeros((ntslice_use, nyuse, nxuse))\n",
    "\n",
    "realdarkcube=pyirc.load_segment(realdark, formatpars, xyrange, tslices, verbose=True)"
   ]
  },
  {
   "cell_type": "markdown",
   "metadata": {},
   "source": [
    "Some of the useful values we can get from the `solid-waffle` runs on SCA 20829 described in Freudenburg, Givans et al. (https://arxiv.org/pdf/2003.05978.pdf) Table 4 on page 26 of the arxiv pdf version.  These are all for the infrared data.\n",
    "\n",
    "charge Q =  3051.5 e  Note that to get the `ILLUMINATION` which is e/s, we divide Q by t=2.75s to get 1109.64 e/s\n",
    "\n",
    "gain g = 1.7285 e/DN\n",
    "\n",
    "alpha =  0.01379 (we'll take the average and assume symmetry for now)\n",
    "\n",
    "$\\beta_2$g = 2.8147E6 (DN$^{-1})\n",
    "\n",
    "$\\beta_3$g$^2$ = -1.0841E10 (DN$^{-2})\n",
    "\n",
    "$\\beta_4$g$^2$ = 2.3025E10 (DN$^{-3})\n",
    "\n",
    "I also took a glance at the acceptance test reports available from the detector characterization lab (linked from internal STScI webserver) for 20828 and 20663, and the QE looked to be around 95\\% for 20663 and higher, maybe 99\\% for 20828.  I didn't see a report for 20829, so let's just go with QE=95\\% for the simulation config.  The dark current for 20828 is 0.007 e/s and 0.005 e/s for 20663, so let's go with 0.007 e/s."
   ]
  },
  {
   "cell_type": "markdown",
   "metadata": {},
   "source": [
    "One useful thing is to know where the real dark signal level is at and how it compares to the simulated dark signal level"
   ]
  },
  {
   "cell_type": "code",
   "execution_count": 3,
   "metadata": {},
   "outputs": [
    {
     "name": "stdout",
     "output_type": "stream",
     "text": [
      "(12, 4096, 4096)\n",
      "53927.357412069025\n",
      "53927.42432333813\n",
      "53927.82983667055\n",
      "53928.51856957598\n",
      "53928.35626479199\n",
      "53928.26437432263\n",
      "53929.79686039949\n",
      "53928.86373193606\n",
      "53929.200358322865\n",
      "53929.99635567658\n",
      "53929.430609935145\n",
      "53929.99498598112\n"
     ]
    }
   ],
   "source": [
    "# Find where the real dark signal level is\n",
    "print(realdarkcube.shape)\n",
    "\n",
    "# Print out the means, subtract them from 65535 as format 4 signals decrease with time increasing\n",
    "# and currently the simulated flats will only simulate format 1 with increasing signals with time increasing\n",
    "for tdx in range(len(tslices)):\n",
    "    print(np.mean(realdarkcube[tdx,4:-4, 4:-4]))\n"
   ]
  },
  {
   "cell_type": "code",
   "execution_count": 4,
   "metadata": {},
   "outputs": [
    {
     "name": "stdout",
     "output_type": "stream",
     "text": [
      "Reading: /fs/project/PCON0003/ami/simulated_detector//mar11_sca20829_vissim_diffbfe_flat1.fits\n",
      "(12, 4096, 4096)\n",
      "53154.824472119726\n",
      "51477.67864263598\n",
      "49800.550740724604\n",
      "48123.41091947076\n",
      "46446.280177580506\n",
      "38060.55486034253\n",
      "21289.15116567128\n",
      "4517.780230417603\n",
      "0.0\n",
      "0.0\n",
      "0.0\n",
      "0.0\n"
     ]
    }
   ],
   "source": [
    "# Compare to the simulated dark signal level\n",
    "simdarkcube=np.zeros_like(realdarkcube)\n",
    "simdarkcube=pyirc.load_segment(simflat, 1, xyrange, tslices, verbose=True)\n",
    "print(simdarkcube.shape)\n",
    "# Print out the means\n",
    "for tdx in range(len(tslices)):\n",
    "    print(np.mean(simdarkcube[tdx,4:-4, 4:-4]))\n"
   ]
  },
  {
   "cell_type": "markdown",
   "metadata": {},
   "source": [
    "The simulated darks seem a bit different in terms of signal level for the first comparisons I am making: 53927.4 in the real dark and 65477.6 in the simulated dark. This can be adjusted by tuning\n",
    "```RESET_E: 1.0e2```\n",
    "in the configuration file that gets passed to the ```simulate_flat.py``` script."
   ]
  },
  {
   "cell_type": "markdown",
   "metadata": {},
   "source": [
    "## Finding the BFE kernel values from the `solid-waffle` IR and visible runs\n",
    "This draws from the code Anna wrote in `plots_fiducial.ipynb` to read in the BFE kernels from the IR and visible outputs.  Then we would like to average the values over superpixels to get a rough input for the simulations."
   ]
  },
  {
   "cell_type": "code",
   "execution_count": 5,
   "metadata": {},
   "outputs": [
    {
     "name": "stdout",
     "output_type": "stream",
     "text": [
      "sum of avg bfe: 3.1714177103068526e-07\n",
      "[[ 0.002428  0.018179  0.034335  0.017008  0.005557]\n",
      " [ 0.010687  0.103002  0.389114  0.11482   0.009735]\n",
      " [ 0.023426  0.362651 -1.971387  0.385713  0.031503]\n",
      " [ 0.015851  0.118116  0.440877  0.110673  0.010928]\n",
      " [ 0.006783  0.016524  0.031761  0.02166   0.007196]]\n",
      "0.31714\n",
      "sum of avg bfe: -2.672150955848493e-08\n",
      "[[ 0.000223 -0.001887  0.012268  0.0083   -0.006043]\n",
      " [ 0.010682  0.098918  0.379619  0.111994  0.022616]\n",
      " [ 0.016828  0.342355 -2.08724   0.36191   0.01779 ]\n",
      " [ 0.00773   0.105579  0.422182  0.100917  0.008805]\n",
      " [ 0.003546 -0.000805  0.028231  0.00376   0.004999]]\n",
      "-0.026723000000000028\n",
      "[['-2,-2' '-1,-2' '0,-2' '1,-2' '2,-2']\n",
      " ['-2,-1' '-1,-1' '0,-1' '1,-1' '2,-1']\n",
      " ['-2,0' '-1,0' '0,0' '1,0' '2,0']\n",
      " ['-2,1' '-1,1' '0,1' '1,1' '2,1']\n",
      " ['-2,2' '-1,2' '0,2' '1,2' '2,2']]\n"
     ]
    }
   ],
   "source": [
    "np.set_printoptions(suppress=True),\n",
    "outputdir='/users/PCON0003/cond0088/Projects/detectors/sw_outputs/PaperIV_chargediffusion'\n",
    "ir_file = open('%s/chris_20829vis_fid1_summary.txt'%outputdir)\n",
    "ir_data = np.loadtxt(ir_file)\n",
    "ir_file.close()\n",
    "bfe = np.ma.masked_where(ir_data[:,13:38]==0, ir_data[:,13:38])\n",
    "out_bfe_arr = bfe.reshape(bfe.shape[0],5,5)\n",
    "avg_bfe_arr = np.mean(out_bfe_arr,axis=0)\n",
    "print(\"sum of avg bfe:\", avg_bfe_arr.sum())\n",
    "# Print in ppm/e for ease of visual comparison\n",
    "print(np.round(1.E6*avg_bfe_arr,decimals=6))\n",
    "# Check also how much it deviates from summing to zero\n",
    "print(np.round(1.E6*avg_bfe_arr,decimals=6).sum())\n",
    "\n",
    "vis_file = open('%s/chris_20829vis_fid1_visinfo.txt'%outputdir)\n",
    "vis_data = np.loadtxt(vis_file)\n",
    "vis_file.close()\n",
    "vis_bfe = np.ma.masked_where(vis_data[:,:25]==0, vis_data[:,:25])\n",
    "out_visbfe_arr = vis_bfe.reshape(vis_bfe.shape[0],5,5)\n",
    "avg_visbfe_arr = np.mean(out_visbfe_arr,axis=0)\n",
    "print(\"sum of avg bfe:\",avg_visbfe_arr.sum())\n",
    "print(np.round(1.E6*avg_visbfe_arr,decimals=6))\n",
    "print(np.round(1.E6*avg_visbfe_arr,decimals=6).sum())\n",
    "\"\"\"ir_cols = ['superX','superY','goodpix','raw_gain','gain_alpha','gain_alphabeta',\n",
    "                'alphaH','alphaV','betaNL','q_per_t','alphaD','cH','cV',\n",
    "                'bfe_IR(-2,-2)','bfe_IR(-1,-2)','bfe_IR(0,-2)','bfe_IR(1,-2)','bfe_IR(2,-2)',\n",
    "                'bfe_IR(-2,-1)', 'bfe_IR(-1,-1)','bfe_IR(0,-1)','bfe_IR(1,-1)','bfe_IR(2,-1)',\n",
    "                'bfe_IR(-2,0)','bfe_IR(-1,0)','bfe_IR(0,0)','bfe_IR(1,0)','bfe_IR(2,0)',\n",
    "                'bfe_IR(-2,1)','bfe_IR(-1,1)','bfe_IR(0,1)','bfe_IR(1,1)','bfe_IR(2,1)',\n",
    "                'bfe_IR(-2,2)','bfe_IR(-1,2)','bfe_IR(0,2)','bfe_IR(1,2)','bfe_IR(2,2)',\n",
    "                't_intercept','beta2','beta3','beta4']\"\"\"\n",
    "# double-checking how np.reshape maps to indices\n",
    "test = np.array(('-2,-2','-1,-2','0,-2','1,-2','2,-2','-2,-1','-1,-1','0,-1','1,-1','2,-1','-2,0','-1,0','0,0','1,0','2,0','-2,1','-1,1','0,1','1,1','2,1','-2,2','-1,2','0,2','1,2','2,2'))\n",
    "print(test.reshape((5,5)))"
   ]
  },
  {
   "cell_type": "code",
   "execution_count": 6,
   "metadata": {},
   "outputs": [
    {
     "name": "stdout",
     "output_type": "stream",
     "text": [
      "-0.0003000000000001283\n",
      "masked_array(\n",
      "  data=[[-0.0103,  0.0055,  0.0216,  0.0043, -0.0071],\n",
      "        [-0.002 ,  0.0903,  0.3764,  0.1021, -0.003 ],\n",
      "        [ 0.0107,  0.35  , -1.9841,  0.373 ,  0.0188],\n",
      "        [ 0.0032,  0.1054,  0.4282,  0.098 , -0.0018],\n",
      "        [-0.0059,  0.0038,  0.0191,  0.009 , -0.0055]],\n",
      "  mask=False,\n",
      "  fill_value=1e+20)\n",
      "sum of the above array:  2.697495005143935e-16\n",
      "sum of input_bfe_vis, defined above:  -2.255140518769849e-16\n",
      "masked_array(\n",
      "  data=[[ 0.0013, -0.0008,  0.0133,  0.0094, -0.005 ],\n",
      "        [ 0.0118,  0.1   ,  0.3807,  0.1131,  0.0237],\n",
      "        [ 0.0179,  0.3434, -2.0862,  0.363 ,  0.0189],\n",
      "        [ 0.0088,  0.1066,  0.4233,  0.102 ,  0.0099],\n",
      "        [ 0.0046,  0.0003,  0.0293,  0.0048,  0.0061]],\n",
      "  mask=False,\n",
      "  fill_value=1e+20)\n",
      "array([[ 0.0413,  0.0392,  0.0533,  0.0494,  0.035 ],\n",
      "       [ 0.0518,  0.14  ,  0.4207,  0.1531,  0.0637],\n",
      "       [ 0.0579,  0.3834, -3.0462,  0.403 ,  0.0589],\n",
      "       [ 0.0488,  0.1466,  0.4633,  0.142 ,  0.0499],\n",
      "       [ 0.0446,  0.0403,  0.0693,  0.0448,  0.0461]])\n",
      "sum of the above array:  0.00020000000000017226\n"
     ]
    },
    {
     "data": {
      "text/plain": [
       "1.734723475976807e-16"
      ]
     },
     "execution_count": 6,
     "metadata": {},
     "output_type": "execute_result"
    }
   ],
   "source": [
    "#This cell is me messing around and trying to get a BFE kernel that sums to 0\n",
    "#input_bfe_ir = avg_bfe_arr - avg_bfe_arr.sum()\n",
    "input_bfe_ir = np.round(1.E6*avg_bfe_arr,decimals=4)-np.round(1.E6*avg_bfe_arr,decimals=4).sum()/25.\n",
    "print(np.round(input_bfe_ir,decimals=4).sum())\n",
    "print(repr(np.round(input_bfe_ir,decimals=4)))\n",
    "tmp=np.array([[ 0.0016,  0.0128,  0.02  ,  0.0166, -0.002 ],\n",
    "        [-0.0039,  0.1   ,  0.4343,  0.1068,  0.0044],\n",
    "        [ 0.0077,  0.3598, -2.0356,  0.3797,  0.0157],\n",
    "        [-0.0047,  0.0835,  0.3807,  0.1068, -0.0083],\n",
    "        [-0.0048,  0.0051,  0.0297, -0.0023, -0.0036]])\n",
    "\n",
    "print(\"sum of the above array: \",tmp.sum())\n",
    "input_bfe_vis = np.round(1.E6*avg_visbfe_arr,decimals=6)-np.round(1.E6*avg_visbfe_arr,decimals=6).sum()/25.\n",
    "print(\"sum of input_bfe_vis, defined above: \",input_bfe_vis.sum())\n",
    "print(repr(np.round(input_bfe_vis,decimals=4)))\n",
    "test=np.array([[ 0.0013, -0.0008,  0.0133,  0.0094, -0.005 ],\n",
    "        [ 0.0118,  0.1   ,  0.3807,  0.1131,  0.0237],\n",
    "        [ 0.0179,  0.3434, -3.0862,  0.363 ,  0.0189],\n",
    "        [ 0.0088,  0.1066,  0.4233,  0.102 ,  0.0099],\n",
    "        [ 0.0046,  0.0003,  0.0293,  0.0048,  0.0061]])\n",
    "test2=test-test.sum()/25.\n",
    "print(repr(np.round(test2,decimals=4)))\n",
    "print(\"sum of the above array: \",np.round(test2,decimals=4).sum())\n",
    "test3=np.array([[ 0.0413,  0.0392,  0.0533,  0.0494,  0.035 ],\n",
    "       [ 0.0518,  0.14  ,  0.4207,  0.1531,  0.0637],\n",
    "       [ 0.0579,  0.3834, -3.0462,  0.403 ,  0.0589],\n",
    "       [ 0.0488,  0.1466,  0.4633,  0.142 ,  0.0499],\n",
    "       [ 0.0446,  0.0403,  0.0693,  0.0448,  0.0459]])\n",
    "# triple-checking...\n",
    "test3.sum()"
   ]
  },
  {
   "cell_type": "code",
   "execution_count": 21,
   "metadata": {},
   "outputs": [
    {
     "name": "stdout",
     "output_type": "stream",
     "text": [
      "avg ir bfe (after sw run on sim):\n",
      "[[-0.008403  0.00606   0.036016  0.000666  0.000118]\n",
      " [-0.003388  0.090028  0.384275  0.119176 -0.01553 ]\n",
      " [ 0.011557  0.365423 -2.096777  0.37196   0.006586]\n",
      " [-0.004094  0.107803  0.444389  0.119387 -0.004372]\n",
      " [ 0.004495  0.017849  0.016809  0.020784  0.002959]]\n",
      "std dev on the mean for ir bfe:\n",
      "[[0.006164 0.006074 0.006131 0.006434 0.006219]\n",
      " [0.005958 0.006002 0.005946 0.00616 0.006219]\n",
      " [0.006195 0.006207 0.006531 0.006138 0.006055]\n",
      " [0.006192 0.005863 0.006147 0.006122 0.006258]\n",
      " [0.006202 0.005817 0.006083 0.006105 0.006254]]\n",
      "sum bfe:  -0.006223999999999941\n",
      "COMPARE TO SIM INPUT:\n",
      "[[-0.0048  0.0051  0.0297 -0.0023 -0.0036]\n",
      " [-0.0047  0.0835  0.3807  0.1068 -0.0083]\n",
      " [ 0.0077  0.3598 -2.0356  0.3797  0.0157]\n",
      " [-0.0039  0.1     0.4343  0.1068  0.0044]\n",
      " [ 0.0016  0.0128  0.02    0.0166 -0.002 ]]\n",
      "*********************************\n",
      "avg vis bfe (after sw run on sim):\n",
      "[[ 0.047024  0.042132  0.071215  0.045264  0.040962]\n",
      " [ 0.052416  0.14425   0.47616   0.149011  0.048037]\n",
      " [ 0.058989  0.401598 -3.186033  0.420666  0.065481]\n",
      " [ 0.052416  0.141948  0.437304  0.14599   0.063044]\n",
      " [ 0.045459  0.04077   0.055743  0.0524    0.041214]]\n",
      "std dev on the mean for vis bfe:\n",
      "[[0.003944 0.003919 0.003936 0.003985 0.003893]\n",
      " [0.004077 0.003943 0.004062 0.003931 0.004081]\n",
      " [0.004148 0.004006 0.008196 0.004093 0.00415]\n",
      " [0.00406 0.003988 0.004059 0.003998 0.004028]\n",
      " [0.004064 0.004024 0.004103 0.004065 0.003964]]\n",
      "sum bfe:  -0.04653999999999989\n",
      "COMPARE TO SIM INPUT:\n",
      "[[ 0.0446  0.0403  0.0693  0.0448  0.0459]\n",
      " [ 0.0488  0.1466  0.4633  0.142   0.0499]\n",
      " [ 0.0579  0.3834 -3.0462  0.403   0.0589]\n",
      " [ 0.0518  0.14    0.4207  0.1531  0.0637]\n",
      " [ 0.0413  0.0392  0.0533  0.0494  0.035 ]]\n"
     ]
    }
   ],
   "source": [
    "# I put in different kernels for ir and visible flat simulations, ran solid-waffle, and the following examines the outputs\n",
    "sys.path.append(\"../flat_simulator/\")\n",
    "from detector_functions import *\n",
    "\n",
    "simoutdir='%s/out'%simdir\n",
    "ir_file = open('%s/vis-sim.diffbfe_mar30_summary.txt'%simoutdir)\n",
    "ir_data = np.loadtxt(ir_file)\n",
    "ir_file.close()\n",
    "bfe = np.ma.masked_where(ir_data[:,13:38]==0, ir_data[:,13:38])\n",
    "out_bfe_arr = bfe.reshape(bfe.shape[0],5,5)\n",
    "avg_bfe_arr = np.mean(out_bfe_arr,axis=0)\n",
    "std_bfe_arr = np.std(out_bfe_arr,axis=0)\n",
    "print(\"avg ir bfe (after sw run on sim):\")\n",
    "# Print in ppm/e for ease of visual comparison\n",
    "print(np.round(1.E6*avg_bfe_arr,decimals=6))\n",
    "print(\"std dev on the mean for ir bfe:\")\n",
    "print(np.round(1.E6*std_bfe_arr/np.sqrt(32*32-1),decimals=6))\n",
    "# Check also how much it deviates from summing to zero\n",
    "print(\"sum bfe: \",np.round(1.E6*avg_bfe_arr,decimals=6).sum())\n",
    "print(\"COMPARE TO SIM INPUT:\")\n",
    "print(np.round(1.E6*np.flip(get_bfe_kernel_5x5_ir(),axis=(0,1)),decimals=6))\n",
    "print(\"*********************************\")\n",
    "\n",
    "vis_file = open('%s/vis-sim.diffbfe_mar30_visinfo.txt'%simoutdir)\n",
    "vis_data = np.loadtxt(vis_file)\n",
    "vis_file.close()\n",
    "vis_bfe = np.ma.masked_where(vis_data[:,:25]==0, vis_data[:,:25])\n",
    "out_visbfe_arr = vis_bfe.reshape(vis_bfe.shape[0],5,5)\n",
    "avg_visbfe_arr = np.mean(out_visbfe_arr,axis=0)\n",
    "std_visbfe_arr = np.std(out_visbfe_arr,axis=0)\n",
    "print(\"avg vis bfe (after sw run on sim):\")\n",
    "print(np.round(1.E6*avg_visbfe_arr,decimals=6))\n",
    "print(\"std dev on the mean for vis bfe:\")\n",
    "print(np.round(1.E6*std_visbfe_arr/np.sqrt(32*32-1),decimals=6))\n",
    "print(\"sum bfe: \",np.round(1.E6*avg_visbfe_arr,decimals=6).sum())\n",
    "print(\"COMPARE TO SIM INPUT:\")\n",
    "print(np.round(1.E6*np.flip(get_bfe_kernel_5x5_vis(),axis=(0,1)),decimals=6))"
   ]
  },
  {
   "cell_type": "markdown",
   "metadata": {},
   "source": [
    "## Differences between input/output\n",
    "The difference in the Paper III sims for the central value was -0.0125 ppm/e (-1.159 was the input, and -1.1715 the output both in ppm/e).  This is about a 1% difference compared to the input value.\n",
    "\n",
    "1. For the IR BFE kernel above, we have a difference in the central value of -0.0612 ppm/e, which is a difference of 3%.  Both the Paper III sims and this one have the same sign difference in that the output seems to be slightly more negative than the input.  Statistical error is 0.006531 ppm/e (so difference is like 9-sigma).\n",
    "2. For the visible BFE kernel, difference in the central value is -0.140 ppm/e, a difference of 4.6%.  Statistical error is 0.008196 (difference is 17-sigma).\n",
    "\n",
    "Because of these differences, we may also want to examine input/output values of other values such as gain, IPC alpha, as well as the distributions of central values over the superpixels and the nearest neighbors."
   ]
  },
  {
   "cell_type": "code",
   "execution_count": 27,
   "metadata": {},
   "outputs": [
    {
     "name": "stdout",
     "output_type": "stream",
     "text": [
      "1.7288586818359375\n"
     ]
    }
   ],
   "source": [
    "# gain, recalling from the top that the input gain was 1.7285 e/DN\n",
    "g = ir_data[:,5].copy()\n",
    "print(g.mean())"
   ]
  },
  {
   "cell_type": "code",
   "execution_count": 30,
   "metadata": {},
   "outputs": [
    {
     "name": "stdout",
     "output_type": "stream",
     "text": [
      "-0.00015896210654726563 -0.00019767217833281252 -0.0001783171424400391\n"
     ]
    }
   ],
   "source": [
    "# IPC alpha, recalling input alpha was 0.01379\n",
    "alphah = ir_data[:,6].copy()\n",
    "alphav = ir_data[:,7].copy()\n",
    "print(alphah.mean(), alphav.mean(), ((alphah+alphav)/2.).mean())\n",
    "# OK, Looks like the linear IPC did not get added properly (and confirming in the header of the fits files, I don't see a value)"
   ]
  },
  {
   "cell_type": "code",
   "execution_count": 50,
   "metadata": {},
   "outputs": [
    {
     "data": {
      "image/png": "[encoded data removed]",
      "text/plain": [
       "<Figure size 864x216 with 2 Axes>"
      ]
     },
     "metadata": {
      "needs_background": "light"
     },
     "output_type": "display_data"
    },
    {
     "data": {
      "image/png": "[encoded data removed]",
      "text/plain": [
       "<Figure size 864x216 with 2 Axes>"
      ]
     },
     "metadata": {
      "needs_background": "light"
     },
     "output_type": "display_data"
    }
   ],
   "source": [
    "# Showing distributions over the super pixels\n",
    "# central value, nearest neighbor averaged\n",
    "bfe00 = 1.E6*ir_data[:,25].copy()\n",
    "bfenn = np.array((ir_data[:,20], ir_data[:,24], ir_data[:,26], ir_data[:,30]))\n",
    "avg_bfenn = 1.E6*np.mean(bfenn, axis=0)\n",
    "# for the vis BFE\n",
    "visbfe00 = 1.E6*vis_data[:,12].copy()\n",
    "visbfenn = np.array((vis_data[:,7], vis_data[:,11], vis_data[:,13], vis_data[:,17]))\n",
    "avg_visbfenn = 1.E6*np.mean(visbfenn, axis=0)\n",
    "\n",
    "%matplotlib inline\n",
    "import matplotlib.pyplot as plt\n",
    "plt.rcParams[\"figure.figsize\"] = (12, 3) # (w, h)\n",
    "\n",
    "# IR first\n",
    "plt.subplot(121)\n",
    "plt.hist(bfe00, 20)\n",
    "plt.axvline(-2.0356, color='k', label='input value')\n",
    "plt.xlabel('ir bfe00 (ppm/e)')\n",
    "plt.legend(loc='best')\n",
    "plt.subplot(122)\n",
    "plt.hist(avg_bfenn, 20)\n",
    "plt.axvline(0.388625, color='k')\n",
    "plt.xlabel('ir <bfe10> (ppm/e)')\n",
    "\n",
    "# compared to visible\n",
    "plt.figure()\n",
    "plt.subplot(121)\n",
    "plt.hist(visbfe00, 20)\n",
    "plt.axvline(-3.0462, color='k')\n",
    "plt.xlabel('vis bfe00 (ppm/e)')\n",
    "plt.subplot(122)\n",
    "plt.hist(avg_visbfenn, 20)\n",
    "plt.axvline(0.4176, color='k')\n",
    "plt.xlabel('vis <bfe10> (ppm/e)')\n",
    "\n",
    "plt.show()"
   ]
  },
  {
   "cell_type": "code",
   "execution_count": 57,
   "metadata": {},
   "outputs": [
    {
     "name": "stdout",
     "output_type": "stream",
     "text": [
      "(1024, 56)\n",
      "0.08069435543359466\n",
      "0.04045655303010644\n",
      "0.019850301786362472\n",
      "0.04138243912809377\n"
     ]
    }
   ],
   "source": [
    "# check omega, input was 0.08\n",
    "# cxx, cxy, cyy inputs were 0.04, 0.02, 0.04\n",
    "omega = vis_data[:,50].copy()\n",
    "cxx = vis_data[:,51].copy()\n",
    "cxy = vis_data[:,52].copy()\n",
    "cyy = vis_data[:,53].copy()\n",
    "print(omega.mean())\n",
    "print(cxx.mean())\n",
    "print(cxy.mean())\n",
    "print(cyy.mean())"
   ]
  },
  {
   "cell_type": "code",
   "execution_count": null,
   "metadata": {},
   "outputs": [],
   "source": []
  }
 ],
 "metadata": {
  "kernelspec": {
   "display_name": "Python (py3)",
   "language": "python",
   "name": "py3"
  },
  "language_info": {
   "codemirror_mode": {
    "name": "ipython",
    "version": 3
   },
   "file_extension": ".py",
   "mimetype": "text/x-python",
   "name": "python",
   "nbconvert_exporter": "python",
   "pygments_lexer": "ipython3",
   "version": "3.7.6"
  }
 },
 "nbformat": 4,
 "nbformat_minor": 4
}
